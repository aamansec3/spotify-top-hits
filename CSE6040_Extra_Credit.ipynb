{
 "cells": [
  {
   "cell_type": "markdown",
   "metadata": {},
   "source": [
    "# Predicting the Most Popular Song of 2024 (so far)"
   ]
  },
  {
   "cell_type": "markdown",
   "metadata": {},
   "source": [
    "This extra credit utilizes the [*Spotify Top Hit 2010-2023 Kaggle Dataset*](https://www.kaggle.com/datasets/josephinelsy/spotify-top-hit-playlist-2010-2022) which uses the Spotify API to extract data directly. "
   ]
  },
  {
   "cell_type": "markdown",
   "metadata": {},
   "source": [
    "## Introduction"
   ]
  },
  {
   "cell_type": "markdown",
   "metadata": {},
   "source": [
    "Music is something that is unavoidable in our lives. Whether we have paid subscriptions to Spotify or YouTube music, or scrolling through TikTok, or even listening to the radio, it's everywhere. This notebook intends to find out what makes a song popular via its audio features as opposed to outstanding factors such as world events and usage on social media. With that being said, here are a few leading questions that result in the following analysis: <br>\n",
    "* Which audio features are most relevant in predicting the most popular track?\n",
    "* Does the key that a track is in have any impact on how popular a track is? And if so, what key tends to be the most used amongst artists?\n",
    "* What are the current trends of audio features in today's music?"
   ]
  },
  {
   "cell_type": "markdown",
   "metadata": {},
   "source": [
    "Here are the variables that are used in the data set with a brief description, taken from the [Spotify API Website](https://developer.spotify.com/documentation/web-api). <br>\n",
    "* **playlist_url:** URL of the playlist that the song is on\n",
    "* **year:** year a song was released\n",
    "* **track_id:** Spotify ID for the track\n",
    "* **track_name:** name of the song\n",
    "* **track_popularity:** how popular a track is ranging from 0 to 100, with 100 being the most popular\n",
    "* **acousticness:** a confidence measure of whether the track is acoustic (i.e. no electronic enhancements) from 0.0 to 1.0 with 1.0 being high confidence that a track is acoustic\n",
    "* **danceability:** how suitable a song is for dancing based on tempo, rhythm, beat, and regularity; ranges from 0.0 to 1.0 with 1.0 being most danceable\n",
    "* **duration_ms:** Duration of the track in milliseconds\n",
    "* **energy:** measures how energetic a song is from 0.0 to 1.0 (i.e. track is fast, loud, and noisy)\n",
    "* **instrumentalness:** measures how much a song contains vocals, ranging from 0.0 to 1.0 with tracks above 0.5 intended to represent instrumental tracks. Note, \"ooh\" and \"aah\" sounds are counted as instrumental \n",
    "* **key:** The key the track is in, based on Pitch class notation, ranging from 0 to 9. No key is represented as -1.\n",
    "* **liveness:** determines the presence of an audience in recording ranging from 0.0 to 1.0, with a value above 0.8 suggesting the track is live\n",
    "* **loudness:** measures the loudness of a track in decibels(dB) ranging from -60 to 0 dB\n",
    "* **mode:** Indicates if a track is major (1) or minor (0)\n",
    "* **speechiness:** Detects the presence of spoken words in a track ranging from 0.0 to 1.0 with 1.0 being a speech-like recording (i.e. talk show, audio book, poetry)\n",
    "* **tempo:** a float value indicating measured in beats per minute (BPM)\n",
    "* **time_signature:** meter notation to specify how many beats are in a measure, ranging from 3 to 7 (represented as 3/4 or 4/4)\n",
    "* **valence:** measures how positive a track sounds (i.e. happy, cheerful) from 0.0 to 1.0 with 1.0 indicating a track with high valence."
   ]
  },
  {
   "cell_type": "markdown",
   "metadata": {},
   "source": [
    "### Setup"
   ]
  },
  {
   "cell_type": "markdown",
   "metadata": {},
   "source": [
    "The following lines of code import libraries needed for this project and read in a csv file into a Pandas Dataframe called **'playlist'**. A few options are set, as the encoding of the csv needs to be 'latin-1' to get rid of any errors while reading the csv. Another setting to display all 23 columns in the dataframe is also enabled here."
   ]
  },
  {
   "cell_type": "code",
   "execution_count": 3,
   "metadata": {},
   "outputs": [
    {
     "ename": "ModuleNotFoundError",
     "evalue": "No module named 'sklearn'",
     "output_type": "error",
     "traceback": [
      "\u001b[0;31m---------------------------------------------------------------------------\u001b[0m",
      "\u001b[0;31mModuleNotFoundError\u001b[0m                       Traceback (most recent call last)",
      "Cell \u001b[0;32mIn[3], line 6\u001b[0m\n\u001b[1;32m      4\u001b[0m \u001b[38;5;28;01mfrom\u001b[39;00m \u001b[38;5;21;01mmatplotlib\u001b[39;00m \u001b[38;5;28;01mimport\u001b[39;00m pyplot \u001b[38;5;28;01mas\u001b[39;00m plt\n\u001b[1;32m      5\u001b[0m \u001b[38;5;28;01mfrom\u001b[39;00m \u001b[38;5;21;01mstatsmodels\u001b[39;00m\u001b[38;5;21;01m.\u001b[39;00m\u001b[38;5;21;01mstats\u001b[39;00m\u001b[38;5;21;01m.\u001b[39;00m\u001b[38;5;21;01moutliers_influence\u001b[39;00m \u001b[38;5;28;01mimport\u001b[39;00m variance_inflation_factor\n\u001b[0;32m----> 6\u001b[0m \u001b[38;5;28;01mfrom\u001b[39;00m \u001b[38;5;21;01msklearn\u001b[39;00m\u001b[38;5;21;01m.\u001b[39;00m\u001b[38;5;21;01mmetrics\u001b[39;00m \u001b[38;5;28;01mimport\u001b[39;00m mean_squared_error\n\u001b[1;32m      7\u001b[0m \u001b[38;5;28;01mimport\u001b[39;00m \u001b[38;5;21;01mstatsmodels\u001b[39;00m\u001b[38;5;21;01m.\u001b[39;00m\u001b[38;5;21;01mapi\u001b[39;00m \u001b[38;5;28;01mas\u001b[39;00m \u001b[38;5;21;01msm\u001b[39;00m\n",
      "\u001b[0;31mModuleNotFoundError\u001b[0m: No module named 'sklearn'"
     ]
    }
   ],
   "source": [
    "import pandas as pd\n",
    "import numpy as np\n",
    "import seaborn as sns\n",
    "from matplotlib import pyplot as plt\n",
    "from statsmodels.stats.outliers_influence import variance_inflation_factor\n",
    "from sklearn.metrics import mean_squared_error\n",
    "import statsmodels.api as sm"
   ]
  },
  {
   "cell_type": "code",
   "execution_count": 4,
   "metadata": {
    "collapsed": true,
    "jupyter": {
     "outputs_hidden": true
    }
   },
   "outputs": [],
   "source": [
    "# read in the data set\n",
    "# encoding needed to be latin-1 to get rid of any errors\n",
    "playlist = pd.read_csv('playlist_2010to2023.csv', encoding='latin-1')"
   ]
  },
  {
   "cell_type": "code",
   "execution_count": 5,
   "metadata": {
    "collapsed": true,
    "jupyter": {
     "outputs_hidden": true
    }
   },
   "outputs": [],
   "source": [
    "# set to display all columns\n",
    "pd.set_option('display.max_columns', None)"
   ]
  },
  {
   "cell_type": "markdown",
   "metadata": {},
   "source": [
    "Later, for building a model, we will need a test data set, called **playlist_2024** which contains the top 50 hits of today. This was collected on April 24, 2024 using the Spotify API. The code to get this data set was inspired by this [notebook on Kaggle](https://www.kaggle.com/code/josephinelsy/spotify-top-hit-2010-2022/) and can be viewed in the notebook titled \"spotify-top-hit-2024\"."
   ]
  },
  {
   "cell_type": "code",
   "execution_count": 6,
   "metadata": {
    "collapsed": true,
    "jupyter": {
     "outputs_hidden": true
    }
   },
   "outputs": [],
   "source": [
    "playlist_2024 = pd.read_csv('playlist_2024.csv', encoding='latin-1')"
   ]
  },
  {
   "cell_type": "markdown",
   "metadata": {},
   "source": [
    "### Data Cleaning"
   ]
  },
  {
   "cell_type": "markdown",
   "metadata": {},
   "source": [
    "Before proceeding with cleaning, let's display the first 5 values of the dataframe with all 23 columns."
   ]
  },
  {
   "cell_type": "code",
   "execution_count": 7,
   "metadata": {},
   "outputs": [
    {
     "data": {
      "text/html": [
       "<div>\n",
       "<style scoped>\n",
       "    .dataframe tbody tr th:only-of-type {\n",
       "        vertical-align: middle;\n",
       "    }\n",
       "\n",
       "    .dataframe tbody tr th {\n",
       "        vertical-align: top;\n",
       "    }\n",
       "\n",
       "    .dataframe thead th {\n",
       "        text-align: right;\n",
       "    }\n",
       "</style>\n",
       "<table border=\"1\" class=\"dataframe\">\n",
       "  <thead>\n",
       "    <tr style=\"text-align: right;\">\n",
       "      <th></th>\n",
       "      <th>playlist_url</th>\n",
       "      <th>year</th>\n",
       "      <th>track_id</th>\n",
       "      <th>track_name</th>\n",
       "      <th>track_popularity</th>\n",
       "      <th>album</th>\n",
       "      <th>artist_id</th>\n",
       "      <th>artist_name</th>\n",
       "      <th>artist_genres</th>\n",
       "      <th>artist_popularity</th>\n",
       "      <th>danceability</th>\n",
       "      <th>energy</th>\n",
       "      <th>key</th>\n",
       "      <th>loudness</th>\n",
       "      <th>mode</th>\n",
       "      <th>speechiness</th>\n",
       "      <th>acousticness</th>\n",
       "      <th>instrumentalness</th>\n",
       "      <th>liveness</th>\n",
       "      <th>valence</th>\n",
       "      <th>tempo</th>\n",
       "      <th>duration_ms</th>\n",
       "      <th>time_signature</th>\n",
       "    </tr>\n",
       "  </thead>\n",
       "  <tbody>\n",
       "    <tr>\n",
       "      <th>0</th>\n",
       "      <td>https://open.spotify.com/playlist/37i9dQZF1DWU...</td>\n",
       "      <td>2000</td>\n",
       "      <td>6naxalmIoLFWR0siv8dnQQ</td>\n",
       "      <td>Oops!...I Did It Again</td>\n",
       "      <td>81</td>\n",
       "      <td>Oops!... I Did It Again</td>\n",
       "      <td>26dSoYclwsYLMAKD3tpOr4</td>\n",
       "      <td>Britney Spears</td>\n",
       "      <td>['dance pop', 'pop']</td>\n",
       "      <td>81</td>\n",
       "      <td>0.751</td>\n",
       "      <td>0.834</td>\n",
       "      <td>1</td>\n",
       "      <td>-5.444</td>\n",
       "      <td>0</td>\n",
       "      <td>0.0437</td>\n",
       "      <td>0.3000</td>\n",
       "      <td>0.000018</td>\n",
       "      <td>0.3550</td>\n",
       "      <td>0.894</td>\n",
       "      <td>95.053</td>\n",
       "      <td>211160</td>\n",
       "      <td>4</td>\n",
       "    </tr>\n",
       "    <tr>\n",
       "      <th>1</th>\n",
       "      <td>https://open.spotify.com/playlist/37i9dQZF1DWU...</td>\n",
       "      <td>2000</td>\n",
       "      <td>2m1hi0nfMR9vdGC8UcrnwU</td>\n",
       "      <td>All The Small Things</td>\n",
       "      <td>83</td>\n",
       "      <td>Enema Of The State</td>\n",
       "      <td>6FBDaR13swtiWwGhX1WQsP</td>\n",
       "      <td>blink-182</td>\n",
       "      <td>['alternative metal', 'modern rock', 'pop punk...</td>\n",
       "      <td>79</td>\n",
       "      <td>0.434</td>\n",
       "      <td>0.897</td>\n",
       "      <td>0</td>\n",
       "      <td>-4.918</td>\n",
       "      <td>1</td>\n",
       "      <td>0.0488</td>\n",
       "      <td>0.0103</td>\n",
       "      <td>0.000000</td>\n",
       "      <td>0.6120</td>\n",
       "      <td>0.684</td>\n",
       "      <td>148.726</td>\n",
       "      <td>167067</td>\n",
       "      <td>4</td>\n",
       "    </tr>\n",
       "    <tr>\n",
       "      <th>2</th>\n",
       "      <td>https://open.spotify.com/playlist/37i9dQZF1DWU...</td>\n",
       "      <td>2000</td>\n",
       "      <td>3y4LxiYMgDl4RethdzpmNe</td>\n",
       "      <td>Breathe</td>\n",
       "      <td>66</td>\n",
       "      <td>Breathe</td>\n",
       "      <td>25NQNriVT2YbSW80ILRWJa</td>\n",
       "      <td>Faith Hill</td>\n",
       "      <td>['contemporary country', 'country', 'country d...</td>\n",
       "      <td>62</td>\n",
       "      <td>0.529</td>\n",
       "      <td>0.496</td>\n",
       "      <td>7</td>\n",
       "      <td>-9.007</td>\n",
       "      <td>1</td>\n",
       "      <td>0.0290</td>\n",
       "      <td>0.1730</td>\n",
       "      <td>0.000000</td>\n",
       "      <td>0.2510</td>\n",
       "      <td>0.278</td>\n",
       "      <td>136.859</td>\n",
       "      <td>250547</td>\n",
       "      <td>4</td>\n",
       "    </tr>\n",
       "    <tr>\n",
       "      <th>3</th>\n",
       "      <td>https://open.spotify.com/playlist/37i9dQZF1DWU...</td>\n",
       "      <td>2000</td>\n",
       "      <td>0v1XpBHnsbkCn7iJ9Ucr1l</td>\n",
       "      <td>It's My Life</td>\n",
       "      <td>81</td>\n",
       "      <td>Crush</td>\n",
       "      <td>58lV9VcRSjABbAbfWS6skp</td>\n",
       "      <td>Bon Jovi</td>\n",
       "      <td>['glam metal', 'rock']</td>\n",
       "      <td>79</td>\n",
       "      <td>0.551</td>\n",
       "      <td>0.913</td>\n",
       "      <td>0</td>\n",
       "      <td>-4.063</td>\n",
       "      <td>0</td>\n",
       "      <td>0.0466</td>\n",
       "      <td>0.0263</td>\n",
       "      <td>0.000013</td>\n",
       "      <td>0.3470</td>\n",
       "      <td>0.544</td>\n",
       "      <td>119.992</td>\n",
       "      <td>224493</td>\n",
       "      <td>4</td>\n",
       "    </tr>\n",
       "    <tr>\n",
       "      <th>4</th>\n",
       "      <td>https://open.spotify.com/playlist/37i9dQZF1DWU...</td>\n",
       "      <td>2000</td>\n",
       "      <td>62bOmKYxYg7dhrC6gH9vFn</td>\n",
       "      <td>Bye Bye Bye</td>\n",
       "      <td>75</td>\n",
       "      <td>No Strings Attached</td>\n",
       "      <td>6Ff53KvcvAj5U7Z1vojB5o</td>\n",
       "      <td>*NSYNC</td>\n",
       "      <td>['boy band', 'dance pop', 'pop']</td>\n",
       "      <td>70</td>\n",
       "      <td>0.610</td>\n",
       "      <td>0.926</td>\n",
       "      <td>8</td>\n",
       "      <td>-4.843</td>\n",
       "      <td>0</td>\n",
       "      <td>0.0479</td>\n",
       "      <td>0.0310</td>\n",
       "      <td>0.001200</td>\n",
       "      <td>0.0821</td>\n",
       "      <td>0.861</td>\n",
       "      <td>172.638</td>\n",
       "      <td>200400</td>\n",
       "      <td>4</td>\n",
       "    </tr>\n",
       "  </tbody>\n",
       "</table>\n",
       "</div>"
      ],
      "text/plain": [
       "                                        playlist_url  year  \\\n",
       "0  https://open.spotify.com/playlist/37i9dQZF1DWU...  2000   \n",
       "1  https://open.spotify.com/playlist/37i9dQZF1DWU...  2000   \n",
       "2  https://open.spotify.com/playlist/37i9dQZF1DWU...  2000   \n",
       "3  https://open.spotify.com/playlist/37i9dQZF1DWU...  2000   \n",
       "4  https://open.spotify.com/playlist/37i9dQZF1DWU...  2000   \n",
       "\n",
       "                 track_id              track_name  track_popularity  \\\n",
       "0  6naxalmIoLFWR0siv8dnQQ  Oops!...I Did It Again                81   \n",
       "1  2m1hi0nfMR9vdGC8UcrnwU    All The Small Things                83   \n",
       "2  3y4LxiYMgDl4RethdzpmNe                 Breathe                66   \n",
       "3  0v1XpBHnsbkCn7iJ9Ucr1l            It's My Life                81   \n",
       "4  62bOmKYxYg7dhrC6gH9vFn             Bye Bye Bye                75   \n",
       "\n",
       "                     album               artist_id     artist_name  \\\n",
       "0  Oops!... I Did It Again  26dSoYclwsYLMAKD3tpOr4  Britney Spears   \n",
       "1       Enema Of The State  6FBDaR13swtiWwGhX1WQsP       blink-182   \n",
       "2                  Breathe  25NQNriVT2YbSW80ILRWJa      Faith Hill   \n",
       "3                    Crush  58lV9VcRSjABbAbfWS6skp        Bon Jovi   \n",
       "4      No Strings Attached  6Ff53KvcvAj5U7Z1vojB5o          *NSYNC   \n",
       "\n",
       "                                       artist_genres  artist_popularity  \\\n",
       "0                               ['dance pop', 'pop']                 81   \n",
       "1  ['alternative metal', 'modern rock', 'pop punk...                 79   \n",
       "2  ['contemporary country', 'country', 'country d...                 62   \n",
       "3                             ['glam metal', 'rock']                 79   \n",
       "4                   ['boy band', 'dance pop', 'pop']                 70   \n",
       "\n",
       "   danceability  energy  key  loudness  mode  speechiness  acousticness  \\\n",
       "0         0.751   0.834    1    -5.444     0       0.0437        0.3000   \n",
       "1         0.434   0.897    0    -4.918     1       0.0488        0.0103   \n",
       "2         0.529   0.496    7    -9.007     1       0.0290        0.1730   \n",
       "3         0.551   0.913    0    -4.063     0       0.0466        0.0263   \n",
       "4         0.610   0.926    8    -4.843     0       0.0479        0.0310   \n",
       "\n",
       "   instrumentalness  liveness  valence    tempo  duration_ms  time_signature  \n",
       "0          0.000018    0.3550    0.894   95.053       211160               4  \n",
       "1          0.000000    0.6120    0.684  148.726       167067               4  \n",
       "2          0.000000    0.2510    0.278  136.859       250547               4  \n",
       "3          0.000013    0.3470    0.544  119.992       224493               4  \n",
       "4          0.001200    0.0821    0.861  172.638       200400               4  "
      ]
     },
     "execution_count": 7,
     "metadata": {},
     "output_type": "execute_result"
    }
   ],
   "source": [
    "playlist.head()"
   ]
  },
  {
   "cell_type": "code",
   "execution_count": 8,
   "metadata": {},
   "outputs": [
    {
     "data": {
      "text/html": [
       "<div>\n",
       "<style scoped>\n",
       "    .dataframe tbody tr th:only-of-type {\n",
       "        vertical-align: middle;\n",
       "    }\n",
       "\n",
       "    .dataframe tbody tr th {\n",
       "        vertical-align: top;\n",
       "    }\n",
       "\n",
       "    .dataframe thead th {\n",
       "        text-align: right;\n",
       "    }\n",
       "</style>\n",
       "<table border=\"1\" class=\"dataframe\">\n",
       "  <thead>\n",
       "    <tr style=\"text-align: right;\">\n",
       "      <th></th>\n",
       "      <th>playlist_url</th>\n",
       "      <th>year</th>\n",
       "      <th>track_id</th>\n",
       "      <th>track_name</th>\n",
       "      <th>track_popularity</th>\n",
       "      <th>album</th>\n",
       "      <th>artist_id</th>\n",
       "      <th>artist_name</th>\n",
       "      <th>artist_genres</th>\n",
       "      <th>artist_popularity</th>\n",
       "      <th>danceability</th>\n",
       "      <th>energy</th>\n",
       "      <th>key</th>\n",
       "      <th>loudness</th>\n",
       "      <th>mode</th>\n",
       "      <th>speechiness</th>\n",
       "      <th>acousticness</th>\n",
       "      <th>instrumentalness</th>\n",
       "      <th>liveness</th>\n",
       "      <th>valence</th>\n",
       "      <th>tempo</th>\n",
       "      <th>duration_ms</th>\n",
       "      <th>time_signature</th>\n",
       "    </tr>\n",
       "  </thead>\n",
       "  <tbody>\n",
       "    <tr>\n",
       "      <th>0</th>\n",
       "      <td>https://open.spotify.com/playlist/37i9dQZF1DXc...</td>\n",
       "      <td>2024</td>\n",
       "      <td>2OzhQlSqBEmt7hmkYxfT6m</td>\n",
       "      <td>Fortnight (feat. Post Malone)</td>\n",
       "      <td>89</td>\n",
       "      <td>THE TORTURED POETS DEPARTMENT</td>\n",
       "      <td>06HL4z0CvFAxyc27GXpf02</td>\n",
       "      <td>Taylor Swift</td>\n",
       "      <td>['pop']</td>\n",
       "      <td>100</td>\n",
       "      <td>0.675</td>\n",
       "      <td>0.397</td>\n",
       "      <td>11</td>\n",
       "      <td>-10.895</td>\n",
       "      <td>1</td>\n",
       "      <td>0.0245</td>\n",
       "      <td>0.499000</td>\n",
       "      <td>0.000006</td>\n",
       "      <td>0.0939</td>\n",
       "      <td>0.319</td>\n",
       "      <td>95.988</td>\n",
       "      <td>228965</td>\n",
       "      <td>4</td>\n",
       "    </tr>\n",
       "    <tr>\n",
       "      <th>1</th>\n",
       "      <td>https://open.spotify.com/playlist/37i9dQZF1DXc...</td>\n",
       "      <td>2024</td>\n",
       "      <td>4IadxL6BUymXlh8RCJJu7T</td>\n",
       "      <td>Too Sweet</td>\n",
       "      <td>90</td>\n",
       "      <td>Unheard</td>\n",
       "      <td>2FXC3k01G6Gw61bmprjgqS</td>\n",
       "      <td>Hozier</td>\n",
       "      <td>['irish singer-songwriter', 'modern rock', 'po...</td>\n",
       "      <td>85</td>\n",
       "      <td>0.741</td>\n",
       "      <td>0.620</td>\n",
       "      <td>10</td>\n",
       "      <td>-5.505</td>\n",
       "      <td>1</td>\n",
       "      <td>0.0412</td>\n",
       "      <td>0.029500</td>\n",
       "      <td>0.000809</td>\n",
       "      <td>0.0398</td>\n",
       "      <td>0.934</td>\n",
       "      <td>117.038</td>\n",
       "      <td>251424</td>\n",
       "      <td>4</td>\n",
       "    </tr>\n",
       "    <tr>\n",
       "      <th>2</th>\n",
       "      <td>https://open.spotify.com/playlist/37i9dQZF1DXc...</td>\n",
       "      <td>2024</td>\n",
       "      <td>2GxrNKugF82CnoRFbQfzPf</td>\n",
       "      <td>i like the way you kiss me</td>\n",
       "      <td>100</td>\n",
       "      <td>i like the way you kiss me</td>\n",
       "      <td>0PCCGZ0wGLizHt2KZ7hhA2</td>\n",
       "      <td>Artemas</td>\n",
       "      <td>[]</td>\n",
       "      <td>81</td>\n",
       "      <td>0.599</td>\n",
       "      <td>0.946</td>\n",
       "      <td>11</td>\n",
       "      <td>-4.263</td>\n",
       "      <td>1</td>\n",
       "      <td>0.0447</td>\n",
       "      <td>0.000938</td>\n",
       "      <td>0.010600</td>\n",
       "      <td>0.0826</td>\n",
       "      <td>0.747</td>\n",
       "      <td>151.647</td>\n",
       "      <td>142515</td>\n",
       "      <td>4</td>\n",
       "    </tr>\n",
       "    <tr>\n",
       "      <th>3</th>\n",
       "      <td>https://open.spotify.com/playlist/37i9dQZF1DXc...</td>\n",
       "      <td>2024</td>\n",
       "      <td>2qSkIjg1o9h3YT9RAgYN75</td>\n",
       "      <td>Espresso</td>\n",
       "      <td>92</td>\n",
       "      <td>Espresso</td>\n",
       "      <td>74KM79TiuVKeVCqs8QtB0B</td>\n",
       "      <td>Sabrina Carpenter</td>\n",
       "      <td>['pop']</td>\n",
       "      <td>81</td>\n",
       "      <td>0.701</td>\n",
       "      <td>0.771</td>\n",
       "      <td>0</td>\n",
       "      <td>-5.486</td>\n",
       "      <td>1</td>\n",
       "      <td>0.0293</td>\n",
       "      <td>0.133000</td>\n",
       "      <td>0.000012</td>\n",
       "      <td>0.1970</td>\n",
       "      <td>0.661</td>\n",
       "      <td>103.982</td>\n",
       "      <td>175459</td>\n",
       "      <td>4</td>\n",
       "    </tr>\n",
       "    <tr>\n",
       "      <th>4</th>\n",
       "      <td>https://open.spotify.com/playlist/37i9dQZF1DXc...</td>\n",
       "      <td>2024</td>\n",
       "      <td>3rUGC1vUpkDG9CZFHMur1t</td>\n",
       "      <td>greedy</td>\n",
       "      <td>97</td>\n",
       "      <td>greedy</td>\n",
       "      <td>45dkTj5sMRSjrmBSBeiHym</td>\n",
       "      <td>Tate McRae</td>\n",
       "      <td>['pop']</td>\n",
       "      <td>83</td>\n",
       "      <td>0.750</td>\n",
       "      <td>0.733</td>\n",
       "      <td>6</td>\n",
       "      <td>-3.180</td>\n",
       "      <td>0</td>\n",
       "      <td>0.0319</td>\n",
       "      <td>0.256000</td>\n",
       "      <td>0.000000</td>\n",
       "      <td>0.1140</td>\n",
       "      <td>0.844</td>\n",
       "      <td>111.018</td>\n",
       "      <td>131872</td>\n",
       "      <td>1</td>\n",
       "    </tr>\n",
       "  </tbody>\n",
       "</table>\n",
       "</div>"
      ],
      "text/plain": [
       "                                        playlist_url  year  \\\n",
       "0  https://open.spotify.com/playlist/37i9dQZF1DXc...  2024   \n",
       "1  https://open.spotify.com/playlist/37i9dQZF1DXc...  2024   \n",
       "2  https://open.spotify.com/playlist/37i9dQZF1DXc...  2024   \n",
       "3  https://open.spotify.com/playlist/37i9dQZF1DXc...  2024   \n",
       "4  https://open.spotify.com/playlist/37i9dQZF1DXc...  2024   \n",
       "\n",
       "                 track_id                     track_name  track_popularity  \\\n",
       "0  2OzhQlSqBEmt7hmkYxfT6m  Fortnight (feat. Post Malone)                89   \n",
       "1  4IadxL6BUymXlh8RCJJu7T                      Too Sweet                90   \n",
       "2  2GxrNKugF82CnoRFbQfzPf     i like the way you kiss me               100   \n",
       "3  2qSkIjg1o9h3YT9RAgYN75                       Espresso                92   \n",
       "4  3rUGC1vUpkDG9CZFHMur1t                         greedy                97   \n",
       "\n",
       "                           album               artist_id        artist_name  \\\n",
       "0  THE TORTURED POETS DEPARTMENT  06HL4z0CvFAxyc27GXpf02       Taylor Swift   \n",
       "1                        Unheard  2FXC3k01G6Gw61bmprjgqS             Hozier   \n",
       "2     i like the way you kiss me  0PCCGZ0wGLizHt2KZ7hhA2            Artemas   \n",
       "3                       Espresso  74KM79TiuVKeVCqs8QtB0B  Sabrina Carpenter   \n",
       "4                         greedy  45dkTj5sMRSjrmBSBeiHym         Tate McRae   \n",
       "\n",
       "                                       artist_genres  artist_popularity  \\\n",
       "0                                            ['pop']                100   \n",
       "1  ['irish singer-songwriter', 'modern rock', 'po...                 85   \n",
       "2                                                 []                 81   \n",
       "3                                            ['pop']                 81   \n",
       "4                                            ['pop']                 83   \n",
       "\n",
       "   danceability  energy  key  loudness  mode  speechiness  acousticness  \\\n",
       "0         0.675   0.397   11   -10.895     1       0.0245      0.499000   \n",
       "1         0.741   0.620   10    -5.505     1       0.0412      0.029500   \n",
       "2         0.599   0.946   11    -4.263     1       0.0447      0.000938   \n",
       "3         0.701   0.771    0    -5.486     1       0.0293      0.133000   \n",
       "4         0.750   0.733    6    -3.180     0       0.0319      0.256000   \n",
       "\n",
       "   instrumentalness  liveness  valence    tempo  duration_ms  time_signature  \n",
       "0          0.000006    0.0939    0.319   95.988       228965               4  \n",
       "1          0.000809    0.0398    0.934  117.038       251424               4  \n",
       "2          0.010600    0.0826    0.747  151.647       142515               4  \n",
       "3          0.000012    0.1970    0.661  103.982       175459               4  \n",
       "4          0.000000    0.1140    0.844  111.018       131872               1  "
      ]
     },
     "execution_count": 8,
     "metadata": {},
     "output_type": "execute_result"
    }
   ],
   "source": [
    "playlist_2024.head()"
   ]
  },
  {
   "cell_type": "markdown",
   "metadata": {},
   "source": [
    "We can drop unique columns such as playlist_url and artist_id, since they are not necessary for analysis."
   ]
  },
  {
   "cell_type": "code",
   "execution_count": 9,
   "metadata": {
    "collapsed": true,
    "jupyter": {
     "outputs_hidden": true
    }
   },
   "outputs": [],
   "source": [
    "playlist = playlist.drop(columns=['playlist_url', 'artist_id', 'track_id'], axis=1)\n",
    "playlist_2024 = playlist_2024.drop(columns=['playlist_url', 'artist_id', 'track_id'], axis=1)"
   ]
  },
  {
   "cell_type": "code",
   "execution_count": 10,
   "metadata": {
    "collapsed": true,
    "jupyter": {
     "outputs_hidden": true
    }
   },
   "outputs": [],
   "source": [
    "# Uncomment to display for assurance\n",
    "#playlist.head()\n",
    "#playlist_2024.head()"
   ]
  },
  {
   "cell_type": "markdown",
   "metadata": {},
   "source": [
    "Finally, let's determine if there are any null values in the dataframe to remove or fill."
   ]
  },
  {
   "cell_type": "code",
   "execution_count": 11,
   "metadata": {},
   "outputs": [
    {
     "data": {
      "text/plain": [
       "year                 0\n",
       "track_name           0\n",
       "track_popularity     0\n",
       "album                0\n",
       "artist_name          0\n",
       "artist_genres        0\n",
       "artist_popularity    0\n",
       "danceability         0\n",
       "energy               0\n",
       "key                  0\n",
       "loudness             0\n",
       "mode                 0\n",
       "speechiness          0\n",
       "acousticness         0\n",
       "instrumentalness     0\n",
       "liveness             0\n",
       "valence              0\n",
       "tempo                0\n",
       "duration_ms          0\n",
       "time_signature       0\n",
       "dtype: int64"
      ]
     },
     "execution_count": 11,
     "metadata": {},
     "output_type": "execute_result"
    }
   ],
   "source": [
    "playlist.isnull().sum()"
   ]
  },
  {
   "cell_type": "code",
   "execution_count": 12,
   "metadata": {},
   "outputs": [
    {
     "data": {
      "text/plain": [
       "year                 0\n",
       "track_name           0\n",
       "track_popularity     0\n",
       "album                0\n",
       "artist_name          0\n",
       "artist_genres        0\n",
       "artist_popularity    0\n",
       "danceability         0\n",
       "energy               0\n",
       "key                  0\n",
       "loudness             0\n",
       "mode                 0\n",
       "speechiness          0\n",
       "acousticness         0\n",
       "instrumentalness     0\n",
       "liveness             0\n",
       "valence              0\n",
       "tempo                0\n",
       "duration_ms          0\n",
       "time_signature       0\n",
       "dtype: int64"
      ]
     },
     "execution_count": 12,
     "metadata": {},
     "output_type": "execute_result"
    }
   ],
   "source": [
    "playlist_2024.isnull().sum()"
   ]
  },
  {
   "cell_type": "markdown",
   "metadata": {},
   "source": [
    "There are no missing values in both the dataframes, therefore we can move on to exploring the data set further."
   ]
  },
  {
   "cell_type": "markdown",
   "metadata": {},
   "source": [
    "### Exploratory Data Analysis\n",
    "This [link](https://towardsdatascience.com/is-my-spotify-music-boring-an-analysis-involving-music-data-and-machine-learning-47550ae931de) gave some inspiration for some of the analysis in this section, while this [article](https://medium.com/@FinchMF/praise-questions-and-critique-spotify-api-38e984a4174b) about the Spotify API gave some insight about the key variable in the Spotify API."
   ]
  },
  {
   "cell_type": "markdown",
   "metadata": {},
   "source": [
    "First, let's get to know our dataset. The following code displays the variable type for each column."
   ]
  },
  {
   "cell_type": "code",
   "execution_count": 13,
   "metadata": {},
   "outputs": [
    {
     "name": "stdout",
     "output_type": "stream",
     "text": [
      "<class 'pandas.core.frame.DataFrame'>\n",
      "RangeIndex: 2400 entries, 0 to 2399\n",
      "Data columns (total 20 columns):\n",
      " #   Column             Non-Null Count  Dtype  \n",
      "---  ------             --------------  -----  \n",
      " 0   year               2400 non-null   int64  \n",
      " 1   track_name         2400 non-null   object \n",
      " 2   track_popularity   2400 non-null   int64  \n",
      " 3   album              2400 non-null   object \n",
      " 4   artist_name        2400 non-null   object \n",
      " 5   artist_genres      2400 non-null   object \n",
      " 6   artist_popularity  2400 non-null   int64  \n",
      " 7   danceability       2400 non-null   float64\n",
      " 8   energy             2400 non-null   float64\n",
      " 9   key                2400 non-null   int64  \n",
      " 10  loudness           2400 non-null   float64\n",
      " 11  mode               2400 non-null   int64  \n",
      " 12  speechiness        2400 non-null   float64\n",
      " 13  acousticness       2400 non-null   float64\n",
      " 14  instrumentalness   2400 non-null   float64\n",
      " 15  liveness           2400 non-null   float64\n",
      " 16  valence            2400 non-null   float64\n",
      " 17  tempo              2400 non-null   float64\n",
      " 18  duration_ms        2400 non-null   int64  \n",
      " 19  time_signature     2400 non-null   int64  \n",
      "dtypes: float64(9), int64(7), object(4)\n",
      "memory usage: 375.1+ KB\n"
     ]
    }
   ],
   "source": [
    "playlist.info()"
   ]
  },
  {
   "cell_type": "markdown",
   "metadata": {},
   "source": [
    "Next, we want to verify that the number of songs for each year. This is to make sure that during our analysis, that one year is more popular because it has more entries. The code below shows that, thankfully, there are 100 songs for each year."
   ]
  },
  {
   "cell_type": "code",
   "execution_count": 14,
   "metadata": {},
   "outputs": [
    {
     "data": {
      "text/plain": [
       "<AxesSubplot:title={'center':'Number of Songs for Each Year'}, xlabel='Year', ylabel='Number of Songs'>"
      ]
     },
     "execution_count": 14,
     "metadata": {},
     "output_type": "execute_result"
    },
    {
     "data": {
      "image/png": "[encoded data removed]",
      "text/plain": [
       "<Figure size 432x288 with 1 Axes>"
      ]
     },
     "metadata": {
      "needs_background": "light"
     },
     "output_type": "display_data"
    }
   ],
   "source": [
    "# Everything is even!\n",
    "plt.xlabel('Year')\n",
    "plt.ylabel('Number of Songs')\n",
    "playlist[\"year\"].value_counts().plot(color=\"purple\", title='Number of Songs for Each Year')"
   ]
  },
  {
   "cell_type": "markdown",
   "metadata": {},
   "source": [
    "**Data Frame Description** The following line of code shows information about numerical variables in the playlist dataframe. Here are some notes on some of the averages on the variables:\n",
    "* The average <u>duration</u> of a song is 224695.583750 ms or 3 minutes and 47 seconds\n",
    "* The average <u>time signature</u> is 3.975, but if rounded, the average time signature that most songs use is 4/4\n",
    "* Average <u>tempo</u> is 120 beats per minute\n",
    "* The average <u>loudness</u> is -5.8 decibels\n",
    "* <u>Instrumentalness</u> is an average of 0.01 which indicates that the average track has more lyrics\n",
    "* The average <u>speechiness</u> is 0.09 meaning that most tracks don't have the presence of spoken words"
   ]
  },
  {
   "cell_type": "code",
   "execution_count": 15,
   "metadata": {
    "scrolled": true
   },
   "outputs": [
    {
     "data": {
      "text/html": [
       "<div>\n",
       "<style scoped>\n",
       "    .dataframe tbody tr th:only-of-type {\n",
       "        vertical-align: middle;\n",
       "    }\n",
       "\n",
       "    .dataframe tbody tr th {\n",
       "        vertical-align: top;\n",
       "    }\n",
       "\n",
       "    .dataframe thead th {\n",
       "        text-align: right;\n",
       "    }\n",
       "</style>\n",
       "<table border=\"1\" class=\"dataframe\">\n",
       "  <thead>\n",
       "    <tr style=\"text-align: right;\">\n",
       "      <th></th>\n",
       "      <th>year</th>\n",
       "      <th>track_popularity</th>\n",
       "      <th>artist_popularity</th>\n",
       "      <th>danceability</th>\n",
       "      <th>energy</th>\n",
       "      <th>key</th>\n",
       "      <th>loudness</th>\n",
       "      <th>mode</th>\n",
       "      <th>speechiness</th>\n",
       "      <th>acousticness</th>\n",
       "      <th>instrumentalness</th>\n",
       "      <th>liveness</th>\n",
       "      <th>valence</th>\n",
       "      <th>tempo</th>\n",
       "      <th>duration_ms</th>\n",
       "      <th>time_signature</th>\n",
       "    </tr>\n",
       "  </thead>\n",
       "  <tbody>\n",
       "    <tr>\n",
       "      <th>count</th>\n",
       "      <td>2400.000000</td>\n",
       "      <td>2400.000000</td>\n",
       "      <td>2400.000000</td>\n",
       "      <td>2400.000000</td>\n",
       "      <td>2400.000000</td>\n",
       "      <td>2400.000000</td>\n",
       "      <td>2400.000000</td>\n",
       "      <td>2400.000000</td>\n",
       "      <td>2400.000000</td>\n",
       "      <td>2400.000000</td>\n",
       "      <td>2400.000000</td>\n",
       "      <td>2400.000000</td>\n",
       "      <td>2400.000000</td>\n",
       "      <td>2400.000000</td>\n",
       "      <td>2400.000000</td>\n",
       "      <td>2400.000000</td>\n",
       "    </tr>\n",
       "    <tr>\n",
       "      <th>mean</th>\n",
       "      <td>2011.500000</td>\n",
       "      <td>70.277083</td>\n",
       "      <td>75.882500</td>\n",
       "      <td>0.661767</td>\n",
       "      <td>0.688705</td>\n",
       "      <td>5.238333</td>\n",
       "      <td>-5.811735</td>\n",
       "      <td>0.589167</td>\n",
       "      <td>0.097995</td>\n",
       "      <td>0.164838</td>\n",
       "      <td>0.013442</td>\n",
       "      <td>0.174978</td>\n",
       "      <td>0.536023</td>\n",
       "      <td>120.456363</td>\n",
       "      <td>224695.583750</td>\n",
       "      <td>3.975000</td>\n",
       "    </tr>\n",
       "    <tr>\n",
       "      <th>std</th>\n",
       "      <td>6.923629</td>\n",
       "      <td>12.958245</td>\n",
       "      <td>12.016746</td>\n",
       "      <td>0.140335</td>\n",
       "      <td>0.165345</td>\n",
       "      <td>3.596909</td>\n",
       "      <td>2.086712</td>\n",
       "      <td>0.492088</td>\n",
       "      <td>0.093276</td>\n",
       "      <td>0.210630</td>\n",
       "      <td>0.082364</td>\n",
       "      <td>0.134153</td>\n",
       "      <td>0.228995</td>\n",
       "      <td>27.640203</td>\n",
       "      <td>41652.938998</td>\n",
       "      <td>0.240276</td>\n",
       "    </tr>\n",
       "    <tr>\n",
       "      <th>min</th>\n",
       "      <td>2000.000000</td>\n",
       "      <td>0.000000</td>\n",
       "      <td>36.000000</td>\n",
       "      <td>0.162000</td>\n",
       "      <td>0.051900</td>\n",
       "      <td>0.000000</td>\n",
       "      <td>-21.107000</td>\n",
       "      <td>0.000000</td>\n",
       "      <td>0.022500</td>\n",
       "      <td>0.000013</td>\n",
       "      <td>0.000000</td>\n",
       "      <td>0.021000</td>\n",
       "      <td>0.037700</td>\n",
       "      <td>60.019000</td>\n",
       "      <td>97393.000000</td>\n",
       "      <td>1.000000</td>\n",
       "    </tr>\n",
       "    <tr>\n",
       "      <th>25%</th>\n",
       "      <td>2005.750000</td>\n",
       "      <td>65.000000</td>\n",
       "      <td>68.000000</td>\n",
       "      <td>0.573750</td>\n",
       "      <td>0.585000</td>\n",
       "      <td>2.000000</td>\n",
       "      <td>-6.846000</td>\n",
       "      <td>0.000000</td>\n",
       "      <td>0.037900</td>\n",
       "      <td>0.018075</td>\n",
       "      <td>0.000000</td>\n",
       "      <td>0.090475</td>\n",
       "      <td>0.359750</td>\n",
       "      <td>98.061500</td>\n",
       "      <td>199050.500000</td>\n",
       "      <td>4.000000</td>\n",
       "    </tr>\n",
       "    <tr>\n",
       "      <th>50%</th>\n",
       "      <td>2011.500000</td>\n",
       "      <td>72.000000</td>\n",
       "      <td>77.000000</td>\n",
       "      <td>0.673000</td>\n",
       "      <td>0.706000</td>\n",
       "      <td>5.000000</td>\n",
       "      <td>-5.526500</td>\n",
       "      <td>1.000000</td>\n",
       "      <td>0.056800</td>\n",
       "      <td>0.073600</td>\n",
       "      <td>0.000000</td>\n",
       "      <td>0.120500</td>\n",
       "      <td>0.544000</td>\n",
       "      <td>120.000000</td>\n",
       "      <td>220953.500000</td>\n",
       "      <td>4.000000</td>\n",
       "    </tr>\n",
       "    <tr>\n",
       "      <th>75%</th>\n",
       "      <td>2017.250000</td>\n",
       "      <td>78.000000</td>\n",
       "      <td>85.000000</td>\n",
       "      <td>0.760000</td>\n",
       "      <td>0.814000</td>\n",
       "      <td>8.000000</td>\n",
       "      <td>-4.381750</td>\n",
       "      <td>1.000000</td>\n",
       "      <td>0.115000</td>\n",
       "      <td>0.233000</td>\n",
       "      <td>0.000057</td>\n",
       "      <td>0.225000</td>\n",
       "      <td>0.726000</td>\n",
       "      <td>137.644500</td>\n",
       "      <td>245467.000000</td>\n",
       "      <td>4.000000</td>\n",
       "    </tr>\n",
       "    <tr>\n",
       "      <th>max</th>\n",
       "      <td>2023.000000</td>\n",
       "      <td>96.000000</td>\n",
       "      <td>100.000000</td>\n",
       "      <td>0.975000</td>\n",
       "      <td>0.999000</td>\n",
       "      <td>11.000000</td>\n",
       "      <td>-0.276000</td>\n",
       "      <td>1.000000</td>\n",
       "      <td>0.576000</td>\n",
       "      <td>0.978000</td>\n",
       "      <td>0.985000</td>\n",
       "      <td>0.979000</td>\n",
       "      <td>0.974000</td>\n",
       "      <td>210.857000</td>\n",
       "      <td>613027.000000</td>\n",
       "      <td>5.000000</td>\n",
       "    </tr>\n",
       "  </tbody>\n",
       "</table>\n",
       "</div>"
      ],
      "text/plain": [
       "              year  track_popularity  artist_popularity  danceability  \\\n",
       "count  2400.000000       2400.000000        2400.000000   2400.000000   \n",
       "mean   2011.500000         70.277083          75.882500      0.661767   \n",
       "std       6.923629         12.958245          12.016746      0.140335   \n",
       "min    2000.000000          0.000000          36.000000      0.162000   \n",
       "25%    2005.750000         65.000000          68.000000      0.573750   \n",
       "50%    2011.500000         72.000000          77.000000      0.673000   \n",
       "75%    2017.250000         78.000000          85.000000      0.760000   \n",
       "max    2023.000000         96.000000         100.000000      0.975000   \n",
       "\n",
       "            energy          key     loudness         mode  speechiness  \\\n",
       "count  2400.000000  2400.000000  2400.000000  2400.000000  2400.000000   \n",
       "mean      0.688705     5.238333    -5.811735     0.589167     0.097995   \n",
       "std       0.165345     3.596909     2.086712     0.492088     0.093276   \n",
       "min       0.051900     0.000000   -21.107000     0.000000     0.022500   \n",
       "25%       0.585000     2.000000    -6.846000     0.000000     0.037900   \n",
       "50%       0.706000     5.000000    -5.526500     1.000000     0.056800   \n",
       "75%       0.814000     8.000000    -4.381750     1.000000     0.115000   \n",
       "max       0.999000    11.000000    -0.276000     1.000000     0.576000   \n",
       "\n",
       "       acousticness  instrumentalness     liveness      valence        tempo  \\\n",
       "count   2400.000000       2400.000000  2400.000000  2400.000000  2400.000000   \n",
       "mean       0.164838          0.013442     0.174978     0.536023   120.456363   \n",
       "std        0.210630          0.082364     0.134153     0.228995    27.640203   \n",
       "min        0.000013          0.000000     0.021000     0.037700    60.019000   \n",
       "25%        0.018075          0.000000     0.090475     0.359750    98.061500   \n",
       "50%        0.073600          0.000000     0.120500     0.544000   120.000000   \n",
       "75%        0.233000          0.000057     0.225000     0.726000   137.644500   \n",
       "max        0.978000          0.985000     0.979000     0.974000   210.857000   \n",
       "\n",
       "         duration_ms  time_signature  \n",
       "count    2400.000000     2400.000000  \n",
       "mean   224695.583750        3.975000  \n",
       "std     41652.938998        0.240276  \n",
       "min     97393.000000        1.000000  \n",
       "25%    199050.500000        4.000000  \n",
       "50%    220953.500000        4.000000  \n",
       "75%    245467.000000        4.000000  \n",
       "max    613027.000000        5.000000  "
      ]
     },
     "execution_count": 15,
     "metadata": {},
     "output_type": "execute_result"
    }
   ],
   "source": [
    "playlist.describe()"
   ]
  },
  {
   "cell_type": "markdown",
   "metadata": {},
   "source": [
    "** The \"Key\" Variable ** For reference, the Spotify API uses [Pitch Class Notation](https://en.wikipedia.org/wiki/Pitch_class). The next few lines of code find out the most used key in songs overall. Here, the most popular key used from 2000-2023 is 1, which are the tonal counterparts of C-sharp and D-flat. This is done by: <br>\n",
    "1. Tabulating the number of times a key was used in a song for each year\n",
    "2. Find the key that was used the most amount of times for each year\n",
    "3. Create a dataframe with the columns year and the most used key for each year\n",
    "4. Plot how many times each key was appeared in the dataframe"
   ]
  },
  {
   "cell_type": "code",
   "execution_count": 16,
   "metadata": {},
   "outputs": [
    {
     "data": {
      "text/plain": [
       "<AxesSubplot:title={'center':'Most Used Key in Songs (2000-2023)'}, xlabel='Key', ylabel='Counts'>"
      ]
     },
     "execution_count": 16,
     "metadata": {},
     "output_type": "execute_result"
    },
    {
     "data": {
      "image/png": "[encoded data removed]",
      "text/plain": [
       "<Figure size 432x288 with 1 Axes>"
      ]
     },
     "metadata": {
      "needs_background": "light"
     },
     "output_type": "display_data"
    }
   ],
   "source": [
    "most_key = playlist.groupby('year').key.value_counts()\n",
    "keys = []\n",
    "for i in np.sort(playlist['year'].unique()):\n",
    "    keys.append(most_key[i][most_key[i] == most_key[i].max()].index[0])\n",
    "\n",
    "\n",
    "overall_key = pd.DataFrame()\n",
    "overall_key['year'] = np.sort(playlist['year'].unique())\n",
    "overall_key['key'] = keys\n",
    "plt.xlabel('Key')\n",
    "plt.ylabel('Counts')\n",
    "overall_key['key'].value_counts().plot(kind='bar', title='Most Used Key in Songs (2000-2023)', color='orange')"
   ]
  },
  {
   "cell_type": "markdown",
   "metadata": {},
   "source": [
    "Next, let's determine the most popular key based on track popularity. To do this, we group by the key variable and calculate the average track popularity associated with said key."
   ]
  },
  {
   "cell_type": "code",
   "execution_count": 17,
   "metadata": {},
   "outputs": [
    {
     "data": {
      "text/html": [
       "<div>\n",
       "<style scoped>\n",
       "    .dataframe tbody tr th:only-of-type {\n",
       "        vertical-align: middle;\n",
       "    }\n",
       "\n",
       "    .dataframe tbody tr th {\n",
       "        vertical-align: top;\n",
       "    }\n",
       "\n",
       "    .dataframe thead th {\n",
       "        text-align: right;\n",
       "    }\n",
       "</style>\n",
       "<table border=\"1\" class=\"dataframe\">\n",
       "  <thead>\n",
       "    <tr style=\"text-align: right;\">\n",
       "      <th></th>\n",
       "      <th>key</th>\n",
       "      <th>track_popularity</th>\n",
       "    </tr>\n",
       "  </thead>\n",
       "  <tbody>\n",
       "    <tr>\n",
       "      <th>2</th>\n",
       "      <td>2</td>\n",
       "      <td>71.320197</td>\n",
       "    </tr>\n",
       "    <tr>\n",
       "      <th>1</th>\n",
       "      <td>1</td>\n",
       "      <td>71.099010</td>\n",
       "    </tr>\n",
       "    <tr>\n",
       "      <th>5</th>\n",
       "      <td>5</td>\n",
       "      <td>71.026316</td>\n",
       "    </tr>\n",
       "    <tr>\n",
       "      <th>11</th>\n",
       "      <td>11</td>\n",
       "      <td>70.504464</td>\n",
       "    </tr>\n",
       "    <tr>\n",
       "      <th>0</th>\n",
       "      <td>0</td>\n",
       "      <td>70.362595</td>\n",
       "    </tr>\n",
       "    <tr>\n",
       "      <th>8</th>\n",
       "      <td>8</td>\n",
       "      <td>70.229592</td>\n",
       "    </tr>\n",
       "    <tr>\n",
       "      <th>7</th>\n",
       "      <td>7</td>\n",
       "      <td>70.210762</td>\n",
       "    </tr>\n",
       "    <tr>\n",
       "      <th>4</th>\n",
       "      <td>4</td>\n",
       "      <td>69.927711</td>\n",
       "    </tr>\n",
       "    <tr>\n",
       "      <th>3</th>\n",
       "      <td>3</td>\n",
       "      <td>69.910256</td>\n",
       "    </tr>\n",
       "    <tr>\n",
       "      <th>9</th>\n",
       "      <td>9</td>\n",
       "      <td>69.510989</td>\n",
       "    </tr>\n",
       "    <tr>\n",
       "      <th>6</th>\n",
       "      <td>6</td>\n",
       "      <td>69.095238</td>\n",
       "    </tr>\n",
       "    <tr>\n",
       "      <th>10</th>\n",
       "      <td>10</td>\n",
       "      <td>68.691781</td>\n",
       "    </tr>\n",
       "  </tbody>\n",
       "</table>\n",
       "</div>"
      ],
      "text/plain": [
       "    key  track_popularity\n",
       "2     2         71.320197\n",
       "1     1         71.099010\n",
       "5     5         71.026316\n",
       "11   11         70.504464\n",
       "0     0         70.362595\n",
       "8     8         70.229592\n",
       "7     7         70.210762\n",
       "4     4         69.927711\n",
       "3     3         69.910256\n",
       "9     9         69.510989\n",
       "6     6         69.095238\n",
       "10   10         68.691781"
      ]
     },
     "execution_count": 17,
     "metadata": {},
     "output_type": "execute_result"
    }
   ],
   "source": [
    "#popular_key = playlist.groupby(['year', 'key'])['track_popularity'].mean()\n",
    "popular_key = playlist.set_index('key').groupby('key').track_popularity.mean().reset_index()\n",
    "popular_key.sort_values(by='track_popularity',ascending=False)"
   ]
  },
  {
   "cell_type": "markdown",
   "metadata": {},
   "source": [
    "Based on the above data frame, key 2, which is the tonal counterpart of D is the key that appears the most with highly popular tracks. The next section of code pulls the top songs that have the key as 2. "
   ]
  },
  {
   "cell_type": "code",
   "execution_count": 18,
   "metadata": {},
   "outputs": [
    {
     "data": {
      "text/html": [
       "<div>\n",
       "<style scoped>\n",
       "    .dataframe tbody tr th:only-of-type {\n",
       "        vertical-align: middle;\n",
       "    }\n",
       "\n",
       "    .dataframe tbody tr th {\n",
       "        vertical-align: top;\n",
       "    }\n",
       "\n",
       "    .dataframe thead th {\n",
       "        text-align: right;\n",
       "    }\n",
       "</style>\n",
       "<table border=\"1\" class=\"dataframe\">\n",
       "  <thead>\n",
       "    <tr style=\"text-align: right;\">\n",
       "      <th></th>\n",
       "      <th>year</th>\n",
       "      <th>track_name</th>\n",
       "      <th>track_popularity</th>\n",
       "      <th>album</th>\n",
       "      <th>artist_name</th>\n",
       "      <th>artist_genres</th>\n",
       "      <th>artist_popularity</th>\n",
       "      <th>danceability</th>\n",
       "      <th>energy</th>\n",
       "      <th>key</th>\n",
       "      <th>loudness</th>\n",
       "      <th>mode</th>\n",
       "      <th>speechiness</th>\n",
       "      <th>acousticness</th>\n",
       "      <th>instrumentalness</th>\n",
       "      <th>liveness</th>\n",
       "      <th>valence</th>\n",
       "      <th>tempo</th>\n",
       "      <th>duration_ms</th>\n",
       "      <th>time_signature</th>\n",
       "    </tr>\n",
       "  </thead>\n",
       "  <tbody>\n",
       "    <tr>\n",
       "      <th>2326</th>\n",
       "      <td>2023</td>\n",
       "      <td>Lovin On Me</td>\n",
       "      <td>93</td>\n",
       "      <td>Lovin On Me</td>\n",
       "      <td>Jack Harlow</td>\n",
       "      <td>['deep underground hip hop', 'kentucky hip hop...</td>\n",
       "      <td>83</td>\n",
       "      <td>0.943</td>\n",
       "      <td>0.558</td>\n",
       "      <td>2</td>\n",
       "      <td>-4.911</td>\n",
       "      <td>1</td>\n",
       "      <td>0.0568</td>\n",
       "      <td>0.0026</td>\n",
       "      <td>0.000002</td>\n",
       "      <td>0.0937</td>\n",
       "      <td>0.606</td>\n",
       "      <td>104.983</td>\n",
       "      <td>138411</td>\n",
       "      <td>4</td>\n",
       "    </tr>\n",
       "    <tr>\n",
       "      <th>2361</th>\n",
       "      <td>2023</td>\n",
       "      <td>Standing Next to You</td>\n",
       "      <td>92</td>\n",
       "      <td>GOLDEN</td>\n",
       "      <td>Jung Kook</td>\n",
       "      <td>['k-pop']</td>\n",
       "      <td>86</td>\n",
       "      <td>0.711</td>\n",
       "      <td>0.809</td>\n",
       "      <td>2</td>\n",
       "      <td>-4.389</td>\n",
       "      <td>0</td>\n",
       "      <td>0.0955</td>\n",
       "      <td>0.0447</td>\n",
       "      <td>0.000000</td>\n",
       "      <td>0.3390</td>\n",
       "      <td>0.816</td>\n",
       "      <td>106.017</td>\n",
       "      <td>206020</td>\n",
       "      <td>4</td>\n",
       "    </tr>\n",
       "    <tr>\n",
       "      <th>2304</th>\n",
       "      <td>2023</td>\n",
       "      <td>Daylight</td>\n",
       "      <td>91</td>\n",
       "      <td>Daylight</td>\n",
       "      <td>David Kushner</td>\n",
       "      <td>['gen z singer-songwriter', 'singer-songwriter...</td>\n",
       "      <td>77</td>\n",
       "      <td>0.508</td>\n",
       "      <td>0.430</td>\n",
       "      <td>2</td>\n",
       "      <td>-9.475</td>\n",
       "      <td>0</td>\n",
       "      <td>0.0335</td>\n",
       "      <td>0.8300</td>\n",
       "      <td>0.000441</td>\n",
       "      <td>0.0930</td>\n",
       "      <td>0.324</td>\n",
       "      <td>130.090</td>\n",
       "      <td>212954</td>\n",
       "      <td>4</td>\n",
       "    </tr>\n",
       "    <tr>\n",
       "      <th>2218</th>\n",
       "      <td>2022</td>\n",
       "      <td>Ghost</td>\n",
       "      <td>87</td>\n",
       "      <td>Justice</td>\n",
       "      <td>Justin Bieber</td>\n",
       "      <td>['canadian pop', 'pop']</td>\n",
       "      <td>89</td>\n",
       "      <td>0.601</td>\n",
       "      <td>0.741</td>\n",
       "      <td>2</td>\n",
       "      <td>-5.569</td>\n",
       "      <td>1</td>\n",
       "      <td>0.0478</td>\n",
       "      <td>0.1850</td>\n",
       "      <td>0.000029</td>\n",
       "      <td>0.4150</td>\n",
       "      <td>0.441</td>\n",
       "      <td>153.960</td>\n",
       "      <td>153190</td>\n",
       "      <td>4</td>\n",
       "    </tr>\n",
       "    <tr>\n",
       "      <th>1307</th>\n",
       "      <td>2013</td>\n",
       "      <td>Why'd You Only Call Me When You're High?</td>\n",
       "      <td>87</td>\n",
       "      <td>AM</td>\n",
       "      <td>Arctic Monkeys</td>\n",
       "      <td>['garage rock', 'modern rock', 'permanent wave...</td>\n",
       "      <td>86</td>\n",
       "      <td>0.691</td>\n",
       "      <td>0.631</td>\n",
       "      <td>2</td>\n",
       "      <td>-6.478</td>\n",
       "      <td>1</td>\n",
       "      <td>0.0368</td>\n",
       "      <td>0.0483</td>\n",
       "      <td>0.000011</td>\n",
       "      <td>0.1040</td>\n",
       "      <td>0.800</td>\n",
       "      <td>92.004</td>\n",
       "      <td>161124</td>\n",
       "      <td>4</td>\n",
       "    </tr>\n",
       "    <tr>\n",
       "      <th>1306</th>\n",
       "      <td>2013</td>\n",
       "      <td>Wake Me Up</td>\n",
       "      <td>86</td>\n",
       "      <td>True</td>\n",
       "      <td>Avicii</td>\n",
       "      <td>['dance pop', 'edm', 'pop', 'pop dance']</td>\n",
       "      <td>81</td>\n",
       "      <td>0.532</td>\n",
       "      <td>0.783</td>\n",
       "      <td>2</td>\n",
       "      <td>-5.697</td>\n",
       "      <td>1</td>\n",
       "      <td>0.0523</td>\n",
       "      <td>0.0038</td>\n",
       "      <td>0.001200</td>\n",
       "      <td>0.1610</td>\n",
       "      <td>0.643</td>\n",
       "      <td>124.080</td>\n",
       "      <td>247427</td>\n",
       "      <td>4</td>\n",
       "    </tr>\n",
       "    <tr>\n",
       "      <th>400</th>\n",
       "      <td>2004</td>\n",
       "      <td>Yeah! (feat. Lil Jon &amp; Ludacris)</td>\n",
       "      <td>86</td>\n",
       "      <td>Confessions (Expanded Edition)</td>\n",
       "      <td>USHER</td>\n",
       "      <td>['atl hip hop', 'contemporary r&amp;b', 'dance pop...</td>\n",
       "      <td>83</td>\n",
       "      <td>0.894</td>\n",
       "      <td>0.791</td>\n",
       "      <td>2</td>\n",
       "      <td>-4.699</td>\n",
       "      <td>1</td>\n",
       "      <td>0.1120</td>\n",
       "      <td>0.0183</td>\n",
       "      <td>0.000000</td>\n",
       "      <td>0.0388</td>\n",
       "      <td>0.583</td>\n",
       "      <td>105.018</td>\n",
       "      <td>250373</td>\n",
       "      <td>4</td>\n",
       "    </tr>\n",
       "    <tr>\n",
       "      <th>2341</th>\n",
       "      <td>2023</td>\n",
       "      <td>La Bebe - Remix</td>\n",
       "      <td>86</td>\n",
       "      <td>La Bebe (Remix)</td>\n",
       "      <td>Yng Lvcas</td>\n",
       "      <td>['reggaeton', 'urbano mexicano']</td>\n",
       "      <td>70</td>\n",
       "      <td>0.812</td>\n",
       "      <td>0.479</td>\n",
       "      <td>2</td>\n",
       "      <td>-5.678</td>\n",
       "      <td>0</td>\n",
       "      <td>0.3330</td>\n",
       "      <td>0.2130</td>\n",
       "      <td>0.000001</td>\n",
       "      <td>0.0756</td>\n",
       "      <td>0.559</td>\n",
       "      <td>169.922</td>\n",
       "      <td>234353</td>\n",
       "      <td>4</td>\n",
       "    </tr>\n",
       "    <tr>\n",
       "      <th>1004</th>\n",
       "      <td>2010</td>\n",
       "      <td>TiK ToK</td>\n",
       "      <td>85</td>\n",
       "      <td>Animal (Expanded Edition)</td>\n",
       "      <td>Kesha</td>\n",
       "      <td>['dance pop', 'pop']</td>\n",
       "      <td>79</td>\n",
       "      <td>0.755</td>\n",
       "      <td>0.837</td>\n",
       "      <td>2</td>\n",
       "      <td>-2.718</td>\n",
       "      <td>0</td>\n",
       "      <td>0.1420</td>\n",
       "      <td>0.0991</td>\n",
       "      <td>0.000000</td>\n",
       "      <td>0.2890</td>\n",
       "      <td>0.714</td>\n",
       "      <td>120.028</td>\n",
       "      <td>199693</td>\n",
       "      <td>4</td>\n",
       "    </tr>\n",
       "    <tr>\n",
       "      <th>1904</th>\n",
       "      <td>2019</td>\n",
       "      <td>Sunflower - Spider-Man: Into the Spider-Verse</td>\n",
       "      <td>85</td>\n",
       "      <td>Hollywood's Bleeding</td>\n",
       "      <td>Post Malone</td>\n",
       "      <td>['dfw rap', 'melodic rap', 'pop', 'rap']</td>\n",
       "      <td>88</td>\n",
       "      <td>0.755</td>\n",
       "      <td>0.522</td>\n",
       "      <td>2</td>\n",
       "      <td>-4.368</td>\n",
       "      <td>1</td>\n",
       "      <td>0.0575</td>\n",
       "      <td>0.5330</td>\n",
       "      <td>0.000000</td>\n",
       "      <td>0.0685</td>\n",
       "      <td>0.925</td>\n",
       "      <td>89.960</td>\n",
       "      <td>157560</td>\n",
       "      <td>4</td>\n",
       "    </tr>\n",
       "  </tbody>\n",
       "</table>\n",
       "</div>"
      ],
      "text/plain": [
       "      year                                     track_name  track_popularity  \\\n",
       "2326  2023                                    Lovin On Me                93   \n",
       "2361  2023                           Standing Next to You                92   \n",
       "2304  2023                                       Daylight                91   \n",
       "2218  2022                                          Ghost                87   \n",
       "1307  2013       Why'd You Only Call Me When You're High?                87   \n",
       "1306  2013                                     Wake Me Up                86   \n",
       "400   2004               Yeah! (feat. Lil Jon & Ludacris)                86   \n",
       "2341  2023                                La Bebe - Remix                86   \n",
       "1004  2010                                        TiK ToK                85   \n",
       "1904  2019  Sunflower - Spider-Man: Into the Spider-Verse                85   \n",
       "\n",
       "                               album     artist_name  \\\n",
       "2326                     Lovin On Me     Jack Harlow   \n",
       "2361                          GOLDEN       Jung Kook   \n",
       "2304                        Daylight   David Kushner   \n",
       "2218                         Justice   Justin Bieber   \n",
       "1307                              AM  Arctic Monkeys   \n",
       "1306                            True          Avicii   \n",
       "400   Confessions (Expanded Edition)           USHER   \n",
       "2341                 La Bebe (Remix)       Yng Lvcas   \n",
       "1004       Animal (Expanded Edition)           Kesha   \n",
       "1904            Hollywood's Bleeding     Post Malone   \n",
       "\n",
       "                                          artist_genres  artist_popularity  \\\n",
       "2326  ['deep underground hip hop', 'kentucky hip hop...                 83   \n",
       "2361                                          ['k-pop']                 86   \n",
       "2304  ['gen z singer-songwriter', 'singer-songwriter...                 77   \n",
       "2218                            ['canadian pop', 'pop']                 89   \n",
       "1307  ['garage rock', 'modern rock', 'permanent wave...                 86   \n",
       "1306           ['dance pop', 'edm', 'pop', 'pop dance']                 81   \n",
       "400   ['atl hip hop', 'contemporary r&b', 'dance pop...                 83   \n",
       "2341                   ['reggaeton', 'urbano mexicano']                 70   \n",
       "1004                               ['dance pop', 'pop']                 79   \n",
       "1904           ['dfw rap', 'melodic rap', 'pop', 'rap']                 88   \n",
       "\n",
       "      danceability  energy  key  loudness  mode  speechiness  acousticness  \\\n",
       "2326         0.943   0.558    2    -4.911     1       0.0568        0.0026   \n",
       "2361         0.711   0.809    2    -4.389     0       0.0955        0.0447   \n",
       "2304         0.508   0.430    2    -9.475     0       0.0335        0.8300   \n",
       "2218         0.601   0.741    2    -5.569     1       0.0478        0.1850   \n",
       "1307         0.691   0.631    2    -6.478     1       0.0368        0.0483   \n",
       "1306         0.532   0.783    2    -5.697     1       0.0523        0.0038   \n",
       "400          0.894   0.791    2    -4.699     1       0.1120        0.0183   \n",
       "2341         0.812   0.479    2    -5.678     0       0.3330        0.2130   \n",
       "1004         0.755   0.837    2    -2.718     0       0.1420        0.0991   \n",
       "1904         0.755   0.522    2    -4.368     1       0.0575        0.5330   \n",
       "\n",
       "      instrumentalness  liveness  valence    tempo  duration_ms  \\\n",
       "2326          0.000002    0.0937    0.606  104.983       138411   \n",
       "2361          0.000000    0.3390    0.816  106.017       206020   \n",
       "2304          0.000441    0.0930    0.324  130.090       212954   \n",
       "2218          0.000029    0.4150    0.441  153.960       153190   \n",
       "1307          0.000011    0.1040    0.800   92.004       161124   \n",
       "1306          0.001200    0.1610    0.643  124.080       247427   \n",
       "400           0.000000    0.0388    0.583  105.018       250373   \n",
       "2341          0.000001    0.0756    0.559  169.922       234353   \n",
       "1004          0.000000    0.2890    0.714  120.028       199693   \n",
       "1904          0.000000    0.0685    0.925   89.960       157560   \n",
       "\n",
       "      time_signature  \n",
       "2326               4  \n",
       "2361               4  \n",
       "2304               4  \n",
       "2218               4  \n",
       "1307               4  \n",
       "1306               4  \n",
       "400                4  \n",
       "2341               4  \n",
       "1004               4  \n",
       "1904               4  "
      ]
     },
     "execution_count": 18,
     "metadata": {},
     "output_type": "execute_result"
    }
   ],
   "source": [
    "popular_keysong = playlist[playlist['key'] == 2]\n",
    "popular_keysong = popular_keysong.sort_values(by=\"track_popularity\", ascending=False).head(10)\n",
    "\n",
    "# uncomment the following line to display data frame\n",
    "popular_keysong.sort_values(by=\"track_popularity\", ascending=False).head(10)"
   ]
  },
  {
   "cell_type": "markdown",
   "metadata": {},
   "source": [
    "The code below gets the 11 most popular tracks regardless of year. The reason why it's 11 instead of 10 is because the top two most popular tracks are both by Taylor Swift. The track \"Cruel Summer\" from her Lover album was re-released as a single in 2023 because of its rising popularity as one of the opening songs of the Eras Tour. As a result, it will be dropped in the next part of data analysis."
   ]
  },
  {
   "cell_type": "code",
   "execution_count": 19,
   "metadata": {
    "scrolled": true
   },
   "outputs": [
    {
     "data": {
      "text/html": [
       "<div>\n",
       "<style scoped>\n",
       "    .dataframe tbody tr th:only-of-type {\n",
       "        vertical-align: middle;\n",
       "    }\n",
       "\n",
       "    .dataframe tbody tr th {\n",
       "        vertical-align: top;\n",
       "    }\n",
       "\n",
       "    .dataframe thead th {\n",
       "        text-align: right;\n",
       "    }\n",
       "</style>\n",
       "<table border=\"1\" class=\"dataframe\">\n",
       "  <thead>\n",
       "    <tr style=\"text-align: right;\">\n",
       "      <th></th>\n",
       "      <th>year</th>\n",
       "      <th>track_name</th>\n",
       "      <th>track_popularity</th>\n",
       "      <th>album</th>\n",
       "      <th>artist_name</th>\n",
       "      <th>artist_genres</th>\n",
       "      <th>artist_popularity</th>\n",
       "      <th>danceability</th>\n",
       "      <th>energy</th>\n",
       "      <th>key</th>\n",
       "      <th>loudness</th>\n",
       "      <th>mode</th>\n",
       "      <th>speechiness</th>\n",
       "      <th>acousticness</th>\n",
       "      <th>instrumentalness</th>\n",
       "      <th>liveness</th>\n",
       "      <th>valence</th>\n",
       "      <th>tempo</th>\n",
       "      <th>duration_ms</th>\n",
       "      <th>time_signature</th>\n",
       "    </tr>\n",
       "  </thead>\n",
       "  <tbody>\n",
       "    <tr>\n",
       "      <th>2307</th>\n",
       "      <td>2023</td>\n",
       "      <td>Cruel Summer</td>\n",
       "      <td>96</td>\n",
       "      <td>Lover</td>\n",
       "      <td>Taylor Swift</td>\n",
       "      <td>['pop']</td>\n",
       "      <td>100</td>\n",
       "      <td>0.552</td>\n",
       "      <td>0.702</td>\n",
       "      <td>9</td>\n",
       "      <td>-5.707</td>\n",
       "      <td>1</td>\n",
       "      <td>0.1570</td>\n",
       "      <td>0.11700</td>\n",
       "      <td>0.000021</td>\n",
       "      <td>0.1050</td>\n",
       "      <td>0.564</td>\n",
       "      <td>169.994</td>\n",
       "      <td>178427</td>\n",
       "      <td>4</td>\n",
       "    </tr>\n",
       "    <tr>\n",
       "      <th>2310</th>\n",
       "      <td>2023</td>\n",
       "      <td>greedy</td>\n",
       "      <td>96</td>\n",
       "      <td>greedy</td>\n",
       "      <td>Tate McRae</td>\n",
       "      <td>['pop']</td>\n",
       "      <td>85</td>\n",
       "      <td>0.750</td>\n",
       "      <td>0.733</td>\n",
       "      <td>6</td>\n",
       "      <td>-3.180</td>\n",
       "      <td>0</td>\n",
       "      <td>0.0319</td>\n",
       "      <td>0.25600</td>\n",
       "      <td>0.000000</td>\n",
       "      <td>0.1140</td>\n",
       "      <td>0.844</td>\n",
       "      <td>111.018</td>\n",
       "      <td>131872</td>\n",
       "      <td>1</td>\n",
       "    </tr>\n",
       "    <tr>\n",
       "      <th>2351</th>\n",
       "      <td>2023</td>\n",
       "      <td>My Love Mine All Mine</td>\n",
       "      <td>94</td>\n",
       "      <td>The Land Is Inhospitable and So Are We</td>\n",
       "      <td>Mitski</td>\n",
       "      <td>['brooklyn indie', 'pov: indie']</td>\n",
       "      <td>84</td>\n",
       "      <td>0.504</td>\n",
       "      <td>0.308</td>\n",
       "      <td>9</td>\n",
       "      <td>-14.958</td>\n",
       "      <td>1</td>\n",
       "      <td>0.0321</td>\n",
       "      <td>0.86800</td>\n",
       "      <td>0.135000</td>\n",
       "      <td>0.1580</td>\n",
       "      <td>0.121</td>\n",
       "      <td>113.950</td>\n",
       "      <td>137773</td>\n",
       "      <td>4</td>\n",
       "    </tr>\n",
       "    <tr>\n",
       "      <th>2349</th>\n",
       "      <td>2023</td>\n",
       "      <td>I Wanna Be Yours</td>\n",
       "      <td>93</td>\n",
       "      <td>AM</td>\n",
       "      <td>Arctic Monkeys</td>\n",
       "      <td>['garage rock', 'modern rock', 'permanent wave...</td>\n",
       "      <td>86</td>\n",
       "      <td>0.464</td>\n",
       "      <td>0.417</td>\n",
       "      <td>0</td>\n",
       "      <td>-9.345</td>\n",
       "      <td>0</td>\n",
       "      <td>0.0256</td>\n",
       "      <td>0.13600</td>\n",
       "      <td>0.022000</td>\n",
       "      <td>0.0974</td>\n",
       "      <td>0.479</td>\n",
       "      <td>67.528</td>\n",
       "      <td>183956</td>\n",
       "      <td>4</td>\n",
       "    </tr>\n",
       "    <tr>\n",
       "      <th>2326</th>\n",
       "      <td>2023</td>\n",
       "      <td>Lovin On Me</td>\n",
       "      <td>93</td>\n",
       "      <td>Lovin On Me</td>\n",
       "      <td>Jack Harlow</td>\n",
       "      <td>['deep underground hip hop', 'kentucky hip hop...</td>\n",
       "      <td>83</td>\n",
       "      <td>0.943</td>\n",
       "      <td>0.558</td>\n",
       "      <td>2</td>\n",
       "      <td>-4.911</td>\n",
       "      <td>1</td>\n",
       "      <td>0.0568</td>\n",
       "      <td>0.00260</td>\n",
       "      <td>0.000002</td>\n",
       "      <td>0.0937</td>\n",
       "      <td>0.606</td>\n",
       "      <td>104.983</td>\n",
       "      <td>138411</td>\n",
       "      <td>4</td>\n",
       "    </tr>\n",
       "    <tr>\n",
       "      <th>605</th>\n",
       "      <td>2006</td>\n",
       "      <td>Unwritten</td>\n",
       "      <td>92</td>\n",
       "      <td>Unwritten</td>\n",
       "      <td>Natasha Bedingfield</td>\n",
       "      <td>['dance pop', 'pop', 'post-teen pop']</td>\n",
       "      <td>76</td>\n",
       "      <td>0.706</td>\n",
       "      <td>0.800</td>\n",
       "      <td>5</td>\n",
       "      <td>-6.333</td>\n",
       "      <td>1</td>\n",
       "      <td>0.0399</td>\n",
       "      <td>0.00584</td>\n",
       "      <td>0.000000</td>\n",
       "      <td>0.0822</td>\n",
       "      <td>0.629</td>\n",
       "      <td>100.011</td>\n",
       "      <td>259333</td>\n",
       "      <td>4</td>\n",
       "    </tr>\n",
       "    <tr>\n",
       "      <th>2328</th>\n",
       "      <td>2023</td>\n",
       "      <td>Water</td>\n",
       "      <td>92</td>\n",
       "      <td>Water</td>\n",
       "      <td>Tyla</td>\n",
       "      <td>[]</td>\n",
       "      <td>80</td>\n",
       "      <td>0.673</td>\n",
       "      <td>0.722</td>\n",
       "      <td>3</td>\n",
       "      <td>-3.495</td>\n",
       "      <td>0</td>\n",
       "      <td>0.0755</td>\n",
       "      <td>0.08560</td>\n",
       "      <td>0.000000</td>\n",
       "      <td>0.1370</td>\n",
       "      <td>0.519</td>\n",
       "      <td>117.187</td>\n",
       "      <td>200256</td>\n",
       "      <td>4</td>\n",
       "    </tr>\n",
       "    <tr>\n",
       "      <th>2334</th>\n",
       "      <td>2023</td>\n",
       "      <td>I Remember Everything (feat. Kacey Musgraves)</td>\n",
       "      <td>92</td>\n",
       "      <td>Zach Bryan</td>\n",
       "      <td>Zach Bryan</td>\n",
       "      <td>['classic oklahoma country']</td>\n",
       "      <td>88</td>\n",
       "      <td>0.429</td>\n",
       "      <td>0.453</td>\n",
       "      <td>0</td>\n",
       "      <td>-7.746</td>\n",
       "      <td>1</td>\n",
       "      <td>0.0459</td>\n",
       "      <td>0.55400</td>\n",
       "      <td>0.000002</td>\n",
       "      <td>0.1020</td>\n",
       "      <td>0.155</td>\n",
       "      <td>77.639</td>\n",
       "      <td>227196</td>\n",
       "      <td>4</td>\n",
       "    </tr>\n",
       "    <tr>\n",
       "      <th>2343</th>\n",
       "      <td>2023</td>\n",
       "      <td>Houdini</td>\n",
       "      <td>92</td>\n",
       "      <td>Houdini</td>\n",
       "      <td>Dua Lipa</td>\n",
       "      <td>['dance pop', 'pop', 'uk pop']</td>\n",
       "      <td>89</td>\n",
       "      <td>0.744</td>\n",
       "      <td>0.789</td>\n",
       "      <td>9</td>\n",
       "      <td>-4.876</td>\n",
       "      <td>0</td>\n",
       "      <td>0.0590</td>\n",
       "      <td>0.00360</td>\n",
       "      <td>0.001440</td>\n",
       "      <td>0.0947</td>\n",
       "      <td>0.866</td>\n",
       "      <td>116.985</td>\n",
       "      <td>185918</td>\n",
       "      <td>4</td>\n",
       "    </tr>\n",
       "    <tr>\n",
       "      <th>2361</th>\n",
       "      <td>2023</td>\n",
       "      <td>Standing Next to You</td>\n",
       "      <td>92</td>\n",
       "      <td>GOLDEN</td>\n",
       "      <td>Jung Kook</td>\n",
       "      <td>['k-pop']</td>\n",
       "      <td>86</td>\n",
       "      <td>0.711</td>\n",
       "      <td>0.809</td>\n",
       "      <td>2</td>\n",
       "      <td>-4.389</td>\n",
       "      <td>0</td>\n",
       "      <td>0.0955</td>\n",
       "      <td>0.04470</td>\n",
       "      <td>0.000000</td>\n",
       "      <td>0.3390</td>\n",
       "      <td>0.816</td>\n",
       "      <td>106.017</td>\n",
       "      <td>206020</td>\n",
       "      <td>4</td>\n",
       "    </tr>\n",
       "  </tbody>\n",
       "</table>\n",
       "</div>"
      ],
      "text/plain": [
       "      year                                     track_name  track_popularity  \\\n",
       "2307  2023                                   Cruel Summer                96   \n",
       "2310  2023                                         greedy                96   \n",
       "2351  2023                          My Love Mine All Mine                94   \n",
       "2349  2023                               I Wanna Be Yours                93   \n",
       "2326  2023                                    Lovin On Me                93   \n",
       "605   2006                                      Unwritten                92   \n",
       "2328  2023                                          Water                92   \n",
       "2334  2023  I Remember Everything (feat. Kacey Musgraves)                92   \n",
       "2343  2023                                        Houdini                92   \n",
       "2361  2023                           Standing Next to You                92   \n",
       "\n",
       "                                       album          artist_name  \\\n",
       "2307                                   Lover         Taylor Swift   \n",
       "2310                                  greedy           Tate McRae   \n",
       "2351  The Land Is Inhospitable and So Are We               Mitski   \n",
       "2349                                      AM       Arctic Monkeys   \n",
       "2326                             Lovin On Me          Jack Harlow   \n",
       "605                                Unwritten  Natasha Bedingfield   \n",
       "2328                                   Water                 Tyla   \n",
       "2334                              Zach Bryan           Zach Bryan   \n",
       "2343                                 Houdini             Dua Lipa   \n",
       "2361                                  GOLDEN            Jung Kook   \n",
       "\n",
       "                                          artist_genres  artist_popularity  \\\n",
       "2307                                            ['pop']                100   \n",
       "2310                                            ['pop']                 85   \n",
       "2351                   ['brooklyn indie', 'pov: indie']                 84   \n",
       "2349  ['garage rock', 'modern rock', 'permanent wave...                 86   \n",
       "2326  ['deep underground hip hop', 'kentucky hip hop...                 83   \n",
       "605               ['dance pop', 'pop', 'post-teen pop']                 76   \n",
       "2328                                                 []                 80   \n",
       "2334                       ['classic oklahoma country']                 88   \n",
       "2343                     ['dance pop', 'pop', 'uk pop']                 89   \n",
       "2361                                          ['k-pop']                 86   \n",
       "\n",
       "      danceability  energy  key  loudness  mode  speechiness  acousticness  \\\n",
       "2307         0.552   0.702    9    -5.707     1       0.1570       0.11700   \n",
       "2310         0.750   0.733    6    -3.180     0       0.0319       0.25600   \n",
       "2351         0.504   0.308    9   -14.958     1       0.0321       0.86800   \n",
       "2349         0.464   0.417    0    -9.345     0       0.0256       0.13600   \n",
       "2326         0.943   0.558    2    -4.911     1       0.0568       0.00260   \n",
       "605          0.706   0.800    5    -6.333     1       0.0399       0.00584   \n",
       "2328         0.673   0.722    3    -3.495     0       0.0755       0.08560   \n",
       "2334         0.429   0.453    0    -7.746     1       0.0459       0.55400   \n",
       "2343         0.744   0.789    9    -4.876     0       0.0590       0.00360   \n",
       "2361         0.711   0.809    2    -4.389     0       0.0955       0.04470   \n",
       "\n",
       "      instrumentalness  liveness  valence    tempo  duration_ms  \\\n",
       "2307          0.000021    0.1050    0.564  169.994       178427   \n",
       "2310          0.000000    0.1140    0.844  111.018       131872   \n",
       "2351          0.135000    0.1580    0.121  113.950       137773   \n",
       "2349          0.022000    0.0974    0.479   67.528       183956   \n",
       "2326          0.000002    0.0937    0.606  104.983       138411   \n",
       "605           0.000000    0.0822    0.629  100.011       259333   \n",
       "2328          0.000000    0.1370    0.519  117.187       200256   \n",
       "2334          0.000002    0.1020    0.155   77.639       227196   \n",
       "2343          0.001440    0.0947    0.866  116.985       185918   \n",
       "2361          0.000000    0.3390    0.816  106.017       206020   \n",
       "\n",
       "      time_signature  \n",
       "2307               4  \n",
       "2310               1  \n",
       "2351               4  \n",
       "2349               4  \n",
       "2326               4  \n",
       "605                4  \n",
       "2328               4  \n",
       "2334               4  \n",
       "2343               4  \n",
       "2361               4  "
      ]
     },
     "execution_count": 19,
     "metadata": {},
     "output_type": "execute_result"
    }
   ],
   "source": [
    "# What are the most popular tracks (of all time?)\n",
    "sorted_popular = playlist.sort_values(by=\"track_popularity\", ascending=False)\n",
    "top_popular = sorted_popular.head(11)\n",
    "# top_popular\n",
    "# drop second entry of Cruel Summer\n",
    "top_popular = top_popular.iloc[1:]\n",
    "top_popular"
   ]
  },
  {
   "cell_type": "markdown",
   "metadata": {},
   "source": [
    "From the above dataframe, we can tabulate which key appears the most on the list. Here, the most popular key is 5, or tonal counterpart of F. "
   ]
  },
  {
   "cell_type": "code",
   "execution_count": 20,
   "metadata": {},
   "outputs": [
    {
     "data": {
      "text/plain": [
       "<AxesSubplot:title={'center':'Most Popular Key by Track Popularity (2000-2023)'}, xlabel='Key', ylabel='Counts'>"
      ]
     },
     "execution_count": 20,
     "metadata": {},
     "output_type": "execute_result"
    },
    {
     "data": {
      "image/png": "[encoded data removed]",
      "text/plain": [
       "<Figure size 432x288 with 1 Axes>"
      ]
     },
     "metadata": {
      "needs_background": "light"
     },
     "output_type": "display_data"
    }
   ],
   "source": [
    "plt.xlabel('Key')\n",
    "plt.ylabel('Counts')\n",
    "top_popular['key'].value_counts().plot(kind='bar', title='Most Popular Key by Track Popularity (2000-2023)',\n",
    "                                      color='cyan')"
   ]
  },
  {
   "cell_type": "markdown",
   "metadata": {},
   "source": [
    "To summarize, the most popular key by average track popularity is 2, the key that appears the most in the top 10 most popular tracks of all time is 9, and the most used key amongst all tracks is 5. "
   ]
  },
  {
   "cell_type": "markdown",
   "metadata": {},
   "source": [
    "Before moving on from the key variable, since the list of most popular songs contains songs from 2023, it is worth it to find what key was used the most in 2023. From the bar plot below, 5 is the most used key in 2023."
   ]
  },
  {
   "cell_type": "code",
   "execution_count": 21,
   "metadata": {},
   "outputs": [
    {
     "data": {
      "text/plain": [
       "<AxesSubplot:title={'center':'Most Used Key in 2023'}, xlabel='year,key', ylabel='Key Counts'>"
      ]
     },
     "execution_count": 21,
     "metadata": {},
     "output_type": "execute_result"
    },
    {
     "data": {
      "image/png": "[encoded data removed]",
      "text/plain": [
       "<Figure size 432x288 with 1 Axes>"
      ]
     },
     "metadata": {
      "needs_background": "light"
     },
     "output_type": "display_data"
    }
   ],
   "source": [
    "key_year = playlist[playlist[\"year\"] == 2023]\n",
    "plt.ylabel('Key Counts')\n",
    "key_year.groupby(\"year\").key.value_counts().plot(kind=\"bar\", color=\"Purple\",title=\"Most Used Key in 2023\")                                                "
   ]
  },
  {
   "cell_type": "markdown",
   "metadata": {},
   "source": [
    "**Popular Key vs. Popular Song** All these songs were released in the year of 2023, with the exception of Taylor Swift's Cruel Summer and Natasha Bedingfield's Unwritten, which was released in 2006. So far we have the top 10 popular songs and the top 10 popular songs by key. We can take the averages of both and plot them and examine their differences."
   ]
  },
  {
   "cell_type": "markdown",
   "metadata": {},
   "source": [
    "We can get the averages of each feature and plot them, which is what the following method performs. DF is a dataframe using the describe method to get the averages of all numeric variables in the playlist dataframe."
   ]
  },
  {
   "cell_type": "code",
   "execution_count": 22,
   "metadata": {
    "collapsed": true,
    "jupyter": {
     "outputs_hidden": true
    }
   },
   "outputs": [],
   "source": [
    "def get_averages(df, features):\n",
    "    avg_list = []\n",
    "    for i in features:\n",
    "        avg_list.append(df[i]['mean'])\n",
    "    return avg_list"
   ]
  },
  {
   "cell_type": "code",
   "execution_count": 23,
   "metadata": {
    "collapsed": true,
    "jupyter": {
     "outputs_hidden": true
    }
   },
   "outputs": [],
   "source": [
    "top_popularDesc = top_popular.head(10).describe()\n",
    "top_popular_keyDesc = popular_keysong.head(10).describe()\n",
    "audio_features = ['acousticness', 'valence', 'energy', 'instrumentalness', 'danceability', 'liveness', 'speechiness']\n",
    "popularDesc_list = get_averages(top_popularDesc, audio_features)\n",
    "popular_keyDesc_list = get_averages(top_popular_keyDesc, audio_features)"
   ]
  },
  {
   "cell_type": "markdown",
   "metadata": {},
   "source": [
    "Now we can create a bar chart of the averages of both."
   ]
  },
  {
   "cell_type": "code",
   "execution_count": 24,
   "metadata": {},
   "outputs": [
    {
     "data": {
      "image/png": "[encoded data removed]",
      "text/plain": [
       "<Figure size 720x720 with 1 Axes>"
      ]
     },
     "metadata": {
      "needs_background": "light"
     },
     "output_type": "display_data"
    }
   ],
   "source": [
    "fig, axs = plt.subplots(figsize=(10,10))\n",
    "x = np.arange(7)\n",
    "plt.bar(x-0.2, popularDesc_list, width = 0.4, color='cyan')\n",
    "plt.bar(x+0.2, popular_keyDesc_list, width = 0.4, color='orange')\n",
    "plt.xticks(x, audio_features)\n",
    "plt.legend([\"Top Popular\", \"Top Popular by Key\"])\n",
    "plt.xlabel(\"Audio Features\")\n",
    "plt.show()"
   ]
  },
  {
   "cell_type": "markdown",
   "metadata": {},
   "source": [
    "Songs with the key of 2 have higher valence, energy, danceability, liveness, and speechiness. In other words, these songs are more upbeat and only slightly more spoken word, but overall still musical in comparison to the most popular song. The 10 most popular songs have more acousticness and instrumentalness."
   ]
  },
  {
   "cell_type": "markdown",
   "metadata": {},
   "source": [
    "The next bar plot shows the differences between the averages of the most popular songs and the most popular songs with a key of 2. "
   ]
  },
  {
   "cell_type": "code",
   "execution_count": 25,
   "metadata": {},
   "outputs": [
    {
     "data": {
      "image/png": "[encoded data removed]",
      "text/plain": [
       "<Figure size 720x720 with 1 Axes>"
      ]
     },
     "metadata": {
      "needs_background": "light"
     },
     "output_type": "display_data"
    }
   ],
   "source": [
    "differences = [a_y - a_x for a_x, a_y in zip(popularDesc_list, popular_keyDesc_list)]\n",
    "fig, axs = plt.subplots(figsize=(10,10))\n",
    "plt.bar(audio_features, differences, width = 0.6, color = \"Green\")\n",
    "plt.xlabel(\"Audio Features\")\n",
    "plt.ylabel(\"Average of Audio Features\")\n",
    "plt.title(\"Differences between Top Popular Songs and Popular Songs by Key (2000-2023)\")\n",
    "plt.show()"
   ]
  },
  {
   "cell_type": "markdown",
   "metadata": {},
   "source": [
    "**Audio Feature Trends** The next section of code plots a variety of audio features against track popularity. First, we should plot the average track popularity by year to see which year had the most popular tracks. From the below chart, track popularity has been rising since 2000 before drastically dipping in 2020 before quickly rising after. "
   ]
  },
  {
   "cell_type": "code",
   "execution_count": 26,
   "metadata": {
    "collapsed": true,
    "jupyter": {
     "outputs_hidden": true
    }
   },
   "outputs": [],
   "source": [
    "avg_trackPop = playlist.groupby(\"year\")[[\"track_popularity\"]].mean()"
   ]
  },
  {
   "cell_type": "code",
   "execution_count": 27,
   "metadata": {},
   "outputs": [
    {
     "data": {
      "text/plain": [
       "<AxesSubplot:title={'center':'Average Track Popularity (by Year)'}, xlabel='year'>"
      ]
     },
     "execution_count": 27,
     "metadata": {},
     "output_type": "execute_result"
    },
    {
     "data": {
      "image/png": "[encoded data removed]",
      "text/plain": [
       "<Figure size 432x288 with 1 Axes>"
      ]
     },
     "metadata": {
      "needs_background": "light"
     },
     "output_type": "display_data"
    }
   ],
   "source": [
    "avg_trackPop.plot(color=\"pink\",title=\"Average Track Popularity (by Year)\")"
   ]
  },
  {
   "cell_type": "code",
   "execution_count": 28,
   "metadata": {
    "collapsed": true,
    "jupyter": {
     "outputs_hidden": true
    }
   },
   "outputs": [],
   "source": [
    "# uncomment to display values\n",
    "# avg_trackPop"
   ]
  },
  {
   "cell_type": "markdown",
   "metadata": {},
   "source": [
    "The next two lines find the lowest and highest track popularity. 2017 had the highest track popularity while 2020 had the lowest."
   ]
  },
  {
   "cell_type": "code",
   "execution_count": 29,
   "metadata": {},
   "outputs": [
    {
     "data": {
      "text/plain": [
       "78.21"
      ]
     },
     "execution_count": 29,
     "metadata": {},
     "output_type": "execute_result"
    }
   ],
   "source": [
    "max(avg_trackPop['track_popularity']) #2017 had the most popular track popularity"
   ]
  },
  {
   "cell_type": "code",
   "execution_count": 30,
   "metadata": {},
   "outputs": [
    {
     "data": {
      "text/plain": [
       "61.48"
      ]
     },
     "execution_count": 30,
     "metadata": {},
     "output_type": "execute_result"
    }
   ],
   "source": [
    "min(avg_trackPop['track_popularity']) # lowest track popularity was in 2020"
   ]
  },
  {
   "cell_type": "markdown",
   "metadata": {},
   "source": [
    "**Energy vs. Year** Since 2010, the energy in music has decreased, meaning that the pacing in music has been slower and is less loud."
   ]
  },
  {
   "cell_type": "code",
   "execution_count": 31,
   "metadata": {},
   "outputs": [
    {
     "data": {
      "text/plain": [
       "<AxesSubplot:title={'center':'Average Energy vs. Year for Tracks'}, xlabel='year'>"
      ]
     },
     "execution_count": 31,
     "metadata": {},
     "output_type": "execute_result"
    },
    {
     "data": {
      "image/png": "[encoded data removed]",
      "text/plain": [
       "<Figure size 432x288 with 1 Axes>"
      ]
     },
     "metadata": {
      "needs_background": "light"
     },
     "output_type": "display_data"
    }
   ],
   "source": [
    "avg_energy = playlist.groupby(\"year\")[[\"energy\"]].mean()\n",
    "avg_energy.plot(title='Average Energy vs. Year for Tracks')"
   ]
  },
  {
   "cell_type": "markdown",
   "metadata": {},
   "source": [
    "**Danceability vs. Year** The danceability in songs has increased since 2010-2011 before taking a big dip after 2020. Since then, songs have been increasing in danceability but to see whether it will reach its peak as prior to 2020 is yet to be seen."
   ]
  },
  {
   "cell_type": "code",
   "execution_count": 32,
   "metadata": {},
   "outputs": [
    {
     "data": {
      "text/plain": [
       "<AxesSubplot:title={'center':'Average Danceability vs. Year for Tracks'}, xlabel='year'>"
      ]
     },
     "execution_count": 32,
     "metadata": {},
     "output_type": "execute_result"
    },
    {
     "data": {
      "image/png": "[encoded data removed]",
      "text/plain": [
       "<Figure size 432x288 with 1 Axes>"
      ]
     },
     "metadata": {
      "needs_background": "light"
     },
     "output_type": "display_data"
    }
   ],
   "source": [
    "avg_danceability = playlist.groupby(\"year\")[[\"danceability\"]].mean()\n",
    "avg_danceability.plot(title='Average Danceability vs. Year for Tracks')"
   ]
  },
  {
   "cell_type": "markdown",
   "metadata": {},
   "source": [
    "** Tempo vs. Year** Song's tempo peaked prior to 2010, but so far most modern songs since 2020 have remained above 120 bpm."
   ]
  },
  {
   "cell_type": "code",
   "execution_count": 36,
   "metadata": {},
   "outputs": [
    {
     "data": {
      "text/plain": [
       "<AxesSubplot:title={'center':'Average Tempo vs. Year for Tracks'}, xlabel='year'>"
      ]
     },
     "execution_count": 36,
     "metadata": {},
     "output_type": "execute_result"
    },
    {
     "data": {
      "image/png": "[encoded data removed]",
      "text/plain": [
       "<Figure size 432x288 with 1 Axes>"
      ]
     },
     "metadata": {
      "needs_background": "light"
     },
     "output_type": "display_data"
    }
   ],
   "source": [
    "playlist.groupby(\"year\")[[\"tempo\"]].mean().plot(title='Average Tempo vs. Year for Tracks')"
   ]
  },
  {
   "cell_type": "markdown",
   "metadata": {},
   "source": [
    "**Duration (in ms) vs. Year** Duration in songs has been decreasing for the past 20 years."
   ]
  },
  {
   "cell_type": "code",
   "execution_count": 34,
   "metadata": {},
   "outputs": [
    {
     "data": {
      "text/plain": [
       "<AxesSubplot:title={'center':'Average Duration vs. Year for Tracks'}, xlabel='year'>"
      ]
     },
     "execution_count": 34,
     "metadata": {},
     "output_type": "execute_result"
    },
    {
     "data": {
      "image/png": "[encoded data removed]",
      "text/plain": [
       "<Figure size 432x288 with 1 Axes>"
      ]
     },
     "metadata": {
      "needs_background": "light"
     },
     "output_type": "display_data"
    }
   ],
   "source": [
    "playlist.groupby(\"year\")[[\"duration_ms\"]].mean().plot(title='Average Duration vs. Year for Tracks')"
   ]
  },
  {
   "cell_type": "markdown",
   "metadata": {},
   "source": [
    "**Speechiness vs. Year** While still below what is deemed to be spoken word, speechiness in songs has been decreasing since 2019-2020."
   ]
  },
  {
   "cell_type": "code",
   "execution_count": 35,
   "metadata": {},
   "outputs": [
    {
     "data": {
      "text/plain": [
       "<AxesSubplot:title={'center':'Average Speechiness vs. Year for Tracks'}, xlabel='year'>"
      ]
     },
     "execution_count": 35,
     "metadata": {},
     "output_type": "execute_result"
    },
    {
     "data": {
      "image/png": "[encoded data removed]",
      "text/plain": [
       "<Figure size 432x288 with 1 Axes>"
      ]
     },
     "metadata": {
      "needs_background": "light"
     },
     "output_type": "display_data"
    }
   ],
   "source": [
    "# plot speechiness \n",
    "playlist.groupby(\"year\")[[\"speechiness\"]].mean().plot(title='Average Speechiness vs. Year for Tracks')"
   ]
  },
  {
   "cell_type": "markdown",
   "metadata": {},
   "source": [
    "**Instrumentalness vs Year** Instrumentalness has been increasing recently after 2021, but it is still less than what it was in the early 2000s and 2010s. This means that there are more lyrics in songs as opposed to instrumentals."
   ]
  },
  {
   "cell_type": "code",
   "execution_count": 71,
   "metadata": {},
   "outputs": [
    {
     "data": {
      "text/plain": [
       "<AxesSubplot:title={'center':'Average Instrumentalness vs. Year for Tracks'}, xlabel='year'>"
      ]
     },
     "execution_count": 71,
     "metadata": {},
     "output_type": "execute_result"
    },
    {
     "data": {
      "image/png": "[encoded data removed]",
      "text/plain": [
       "<Figure size 432x288 with 1 Axes>"
      ]
     },
     "metadata": {
      "needs_background": "light"
     },
     "output_type": "display_data"
    }
   ],
   "source": [
    "playlist.groupby(\"year\")[[\"instrumentalness\"]].mean().plot(title='Average Instrumentalness vs. Year for Tracks')"
   ]
  },
  {
   "cell_type": "markdown",
   "metadata": {},
   "source": [
    "**Valence vs Year** Songs have been significantly less happy-sounding since 2000. However after 2015, valence has been increasing suggesting that songs have been sounding happier lately."
   ]
  },
  {
   "cell_type": "code",
   "execution_count": 70,
   "metadata": {},
   "outputs": [
    {
     "data": {
      "text/plain": [
       "<AxesSubplot:title={'center':'Average Valence vs. Year for Tracks'}, xlabel='year'>"
      ]
     },
     "execution_count": 70,
     "metadata": {},
     "output_type": "execute_result"
    },
    {
     "data": {
      "image/png": "[encoded data removed]",
      "text/plain": [
       "<Figure size 432x288 with 1 Axes>"
      ]
     },
     "metadata": {
      "needs_background": "light"
     },
     "output_type": "display_data"
    }
   ],
   "source": [
    "playlist.groupby(\"year\")[[\"valence\"]].mean().plot(title='Average Valence vs. Year for Tracks')"
   ]
  },
  {
   "cell_type": "markdown",
   "metadata": {},
   "source": [
    "**Addressing Collinearity** The following code generates a correlation heatmap. Here, let's define two varaibles that have high correlation as greater than +/- 0.5"
   ]
  },
  {
   "cell_type": "code",
   "execution_count": 30,
   "metadata": {
    "collapsed": true,
    "jupyter": {
     "outputs_hidden": true
    }
   },
   "outputs": [],
   "source": [
    "correlation_cols = ['track_popularity', 'danceability', 'energy', 'key', \n",
    "                   'loudness', 'mode', 'speechiness', 'acousticness', \n",
    "                   'instrumentalness', 'valence', 'tempo', \n",
    "                   'duration_ms', 'time_signature', 'artist_popularity']"
   ]
  },
  {
   "cell_type": "code",
   "execution_count": 31,
   "metadata": {
    "collapsed": true,
    "jupyter": {
     "outputs_hidden": true
    }
   },
   "outputs": [],
   "source": [
    "mask = np.triu(np.ones_like(playlist[correlation_cols].corr(), dtype=bool))"
   ]
  },
  {
   "cell_type": "code",
   "execution_count": 32,
   "metadata": {},
   "outputs": [
    {
     "data": {
      "text/plain": [
       "<AxesSubplot:>"
      ]
     },
     "execution_count": 32,
     "metadata": {},
     "output_type": "execute_result"
    },
    {
     "data": {
      "image/png": "[encoded data removed]",
      "text/plain": [
       "<Figure size 720x720 with 2 Axes>"
      ]
     },
     "metadata": {
      "needs_background": "light"
     },
     "output_type": "display_data"
    }
   ],
   "source": [
    "fig, ax = plt.subplots(figsize=(10,10))\n",
    "sns.heatmap(playlist[correlation_cols].corr(), ax=ax, annot=True, mask=mask)"
   ]
  },
  {
   "cell_type": "markdown",
   "metadata": {},
   "source": [
    "Energy and Loudness are positively correlated. Louder music means that a song has more energy. Converesely, Acousticness and Energy are negatively correlated, meaning there is less electrical amplification with lower Energy songs. From this matrix, removing Acousticness and Loudness from the model would increase performance. "
   ]
  },
  {
   "cell_type": "markdown",
   "metadata": {},
   "source": [
    "**Addressing Multicollinearity** A correlation matrix is one way to deal with Collinearity. However, variables can be correlated with multiple other variables. To measure this, the <u>Variance Inflation Factor (VIF)</u> can be used to measure how correlated other variables are with each other. A VIF of higher than 5 means high collinearity with other independent variables, which will cause issues when performing linear regression. The VIF formula is as follows: \n",
    "<center>\n",
    "$VIF \\equiv \\frac{1}{1-R^2}$\n",
    "\n",
    "This site was used for an algorithm for [multicollinearity](https://towardsdatascience.com/targeting-multicollinearity-with-python-3bd3b4088d0b)."
   ]
  },
  {
   "cell_type": "code",
   "execution_count": 73,
   "metadata": {
    "collapsed": true,
    "jupyter": {
     "outputs_hidden": true
    }
   },
   "outputs": [],
   "source": [
    "# get numeric data from playlist for collinearity\n",
    "playlist_nums = playlist._get_numeric_data()"
   ]
  },
  {
   "cell_type": "code",
   "execution_count": 27,
   "metadata": {
    "scrolled": true
   },
   "outputs": [
    {
     "data": {
      "text/html": [
       "<div>\n",
       "<style scoped>\n",
       "    .dataframe tbody tr th:only-of-type {\n",
       "        vertical-align: middle;\n",
       "    }\n",
       "\n",
       "    .dataframe tbody tr th {\n",
       "        vertical-align: top;\n",
       "    }\n",
       "\n",
       "    .dataframe thead th {\n",
       "        text-align: right;\n",
       "    }\n",
       "</style>\n",
       "<table border=\"1\" class=\"dataframe\">\n",
       "  <thead>\n",
       "    <tr style=\"text-align: right;\">\n",
       "      <th></th>\n",
       "      <th>year</th>\n",
       "      <th>track_popularity</th>\n",
       "      <th>artist_popularity</th>\n",
       "      <th>danceability</th>\n",
       "      <th>energy</th>\n",
       "      <th>key</th>\n",
       "      <th>loudness</th>\n",
       "      <th>mode</th>\n",
       "      <th>speechiness</th>\n",
       "      <th>acousticness</th>\n",
       "      <th>instrumentalness</th>\n",
       "      <th>liveness</th>\n",
       "      <th>valence</th>\n",
       "      <th>tempo</th>\n",
       "      <th>duration_ms</th>\n",
       "      <th>time_signature</th>\n",
       "    </tr>\n",
       "  </thead>\n",
       "  <tbody>\n",
       "    <tr>\n",
       "      <th>0</th>\n",
       "      <td>2000</td>\n",
       "      <td>81</td>\n",
       "      <td>81</td>\n",
       "      <td>0.751</td>\n",
       "      <td>0.834</td>\n",
       "      <td>1</td>\n",
       "      <td>-5.444</td>\n",
       "      <td>0</td>\n",
       "      <td>0.0437</td>\n",
       "      <td>0.3000</td>\n",
       "      <td>0.000018</td>\n",
       "      <td>0.3550</td>\n",
       "      <td>0.894</td>\n",
       "      <td>95.053</td>\n",
       "      <td>211160</td>\n",
       "      <td>4</td>\n",
       "    </tr>\n",
       "    <tr>\n",
       "      <th>1</th>\n",
       "      <td>2000</td>\n",
       "      <td>83</td>\n",
       "      <td>79</td>\n",
       "      <td>0.434</td>\n",
       "      <td>0.897</td>\n",
       "      <td>0</td>\n",
       "      <td>-4.918</td>\n",
       "      <td>1</td>\n",
       "      <td>0.0488</td>\n",
       "      <td>0.0103</td>\n",
       "      <td>0.000000</td>\n",
       "      <td>0.6120</td>\n",
       "      <td>0.684</td>\n",
       "      <td>148.726</td>\n",
       "      <td>167067</td>\n",
       "      <td>4</td>\n",
       "    </tr>\n",
       "    <tr>\n",
       "      <th>2</th>\n",
       "      <td>2000</td>\n",
       "      <td>66</td>\n",
       "      <td>62</td>\n",
       "      <td>0.529</td>\n",
       "      <td>0.496</td>\n",
       "      <td>7</td>\n",
       "      <td>-9.007</td>\n",
       "      <td>1</td>\n",
       "      <td>0.0290</td>\n",
       "      <td>0.1730</td>\n",
       "      <td>0.000000</td>\n",
       "      <td>0.2510</td>\n",
       "      <td>0.278</td>\n",
       "      <td>136.859</td>\n",
       "      <td>250547</td>\n",
       "      <td>4</td>\n",
       "    </tr>\n",
       "    <tr>\n",
       "      <th>3</th>\n",
       "      <td>2000</td>\n",
       "      <td>81</td>\n",
       "      <td>79</td>\n",
       "      <td>0.551</td>\n",
       "      <td>0.913</td>\n",
       "      <td>0</td>\n",
       "      <td>-4.063</td>\n",
       "      <td>0</td>\n",
       "      <td>0.0466</td>\n",
       "      <td>0.0263</td>\n",
       "      <td>0.000013</td>\n",
       "      <td>0.3470</td>\n",
       "      <td>0.544</td>\n",
       "      <td>119.992</td>\n",
       "      <td>224493</td>\n",
       "      <td>4</td>\n",
       "    </tr>\n",
       "    <tr>\n",
       "      <th>4</th>\n",
       "      <td>2000</td>\n",
       "      <td>75</td>\n",
       "      <td>70</td>\n",
       "      <td>0.610</td>\n",
       "      <td>0.926</td>\n",
       "      <td>8</td>\n",
       "      <td>-4.843</td>\n",
       "      <td>0</td>\n",
       "      <td>0.0479</td>\n",
       "      <td>0.0310</td>\n",
       "      <td>0.001200</td>\n",
       "      <td>0.0821</td>\n",
       "      <td>0.861</td>\n",
       "      <td>172.638</td>\n",
       "      <td>200400</td>\n",
       "      <td>4</td>\n",
       "    </tr>\n",
       "  </tbody>\n",
       "</table>\n",
       "</div>"
      ],
      "text/plain": [
       "   year  track_popularity  artist_popularity  danceability  energy  key  \\\n",
       "0  2000                81                 81         0.751   0.834    1   \n",
       "1  2000                83                 79         0.434   0.897    0   \n",
       "2  2000                66                 62         0.529   0.496    7   \n",
       "3  2000                81                 79         0.551   0.913    0   \n",
       "4  2000                75                 70         0.610   0.926    8   \n",
       "\n",
       "   loudness  mode  speechiness  acousticness  instrumentalness  liveness  \\\n",
       "0    -5.444     0       0.0437        0.3000          0.000018    0.3550   \n",
       "1    -4.918     1       0.0488        0.0103          0.000000    0.6120   \n",
       "2    -9.007     1       0.0290        0.1730          0.000000    0.2510   \n",
       "3    -4.063     0       0.0466        0.0263          0.000013    0.3470   \n",
       "4    -4.843     0       0.0479        0.0310          0.001200    0.0821   \n",
       "\n",
       "   valence    tempo  duration_ms  time_signature  \n",
       "0    0.894   95.053       211160               4  \n",
       "1    0.684  148.726       167067               4  \n",
       "2    0.278  136.859       250547               4  \n",
       "3    0.544  119.992       224493               4  \n",
       "4    0.861  172.638       200400               4  "
      ]
     },
     "execution_count": 27,
     "metadata": {},
     "output_type": "execute_result"
    }
   ],
   "source": [
    "playlist_nums.head()"
   ]
  },
  {
   "cell_type": "code",
   "execution_count": 28,
   "metadata": {
    "collapsed": true,
    "jupyter": {
     "outputs_hidden": true
    }
   },
   "outputs": [],
   "source": [
    "def compute_vif(considered):\n",
    "    vif = pd.DataFrame() \n",
    "    X = playlist_nums[considered]\n",
    "    #X['intercept'] = 1\n",
    "    #vif[\"intercept\"] = 1\n",
    "    vif[\"features\"] = X.columns\n",
    "    vif[\"VIF\"] = [variance_inflation_factor(X.values, i) \n",
    "                   for i in range(len(X.columns))]\n",
    "    vif = vif[vif[\"features\"] != 'intercept']\n",
    "    return vif"
   ]
  },
  {
   "cell_type": "markdown",
   "metadata": {},
   "source": [
    "The above function will be called to calculate correlation amongst the independent variables. Considered_cols will remove track_popularity since it is not an independent variable. "
   ]
  },
  {
   "cell_type": "code",
   "execution_count": 29,
   "metadata": {},
   "outputs": [
    {
     "data": {
      "text/plain": [
       "['year',\n",
       " 'artist_popularity',\n",
       " 'danceability',\n",
       " 'energy',\n",
       " 'key',\n",
       " 'loudness',\n",
       " 'mode',\n",
       " 'speechiness',\n",
       " 'acousticness',\n",
       " 'instrumentalness',\n",
       " 'liveness',\n",
       " 'valence',\n",
       " 'tempo',\n",
       " 'duration_ms',\n",
       " 'time_signature']"
      ]
     },
     "execution_count": 29,
     "metadata": {},
     "output_type": "execute_result"
    }
   ],
   "source": [
    "considered_cols = playlist_nums.columns\n",
    "considered_cols = list(considered_cols)\n",
    "considered_cols.remove('track_popularity')\n",
    "considered_cols"
   ]
  },
  {
   "cell_type": "code",
   "execution_count": 74,
   "metadata": {
    "collapsed": true,
    "jupyter": {
     "outputs_hidden": true
    }
   },
   "outputs": [],
   "source": [
    "# Uncomment to view\n",
    "# playlist_nums[considered_cols].head()"
   ]
  },
  {
   "cell_type": "markdown",
   "metadata": {},
   "source": [
    "The algorithm to determine the variables is to call the compute_vif method with the considered_cols list passed as an argument. The method returns with a dataframe containing features and the VIF. The feature with the highest VIF is then removed. This process is repeated until all features have a VIF under 5. This section can be scrolled through."
   ]
  },
  {
   "cell_type": "code",
   "execution_count": 31,
   "metadata": {},
   "outputs": [
    {
     "data": {
      "text/html": [
       "<div>\n",
       "<style scoped>\n",
       "    .dataframe tbody tr th:only-of-type {\n",
       "        vertical-align: middle;\n",
       "    }\n",
       "\n",
       "    .dataframe tbody tr th {\n",
       "        vertical-align: top;\n",
       "    }\n",
       "\n",
       "    .dataframe thead th {\n",
       "        text-align: right;\n",
       "    }\n",
       "</style>\n",
       "<table border=\"1\" class=\"dataframe\">\n",
       "  <thead>\n",
       "    <tr style=\"text-align: right;\">\n",
       "      <th></th>\n",
       "      <th>features</th>\n",
       "      <th>VIF</th>\n",
       "    </tr>\n",
       "  </thead>\n",
       "  <tbody>\n",
       "    <tr>\n",
       "      <th>0</th>\n",
       "      <td>year</td>\n",
       "      <td>512.787820</td>\n",
       "    </tr>\n",
       "    <tr>\n",
       "      <th>14</th>\n",
       "      <td>time_signature</td>\n",
       "      <td>283.020648</td>\n",
       "    </tr>\n",
       "    <tr>\n",
       "      <th>3</th>\n",
       "      <td>energy</td>\n",
       "      <td>49.435855</td>\n",
       "    </tr>\n",
       "    <tr>\n",
       "      <th>1</th>\n",
       "      <td>artist_popularity</td>\n",
       "      <td>43.598213</td>\n",
       "    </tr>\n",
       "    <tr>\n",
       "      <th>2</th>\n",
       "      <td>danceability</td>\n",
       "      <td>33.894432</td>\n",
       "    </tr>\n",
       "    <tr>\n",
       "      <th>13</th>\n",
       "      <td>duration_ms</td>\n",
       "      <td>30.759158</td>\n",
       "    </tr>\n",
       "    <tr>\n",
       "      <th>12</th>\n",
       "      <td>tempo</td>\n",
       "      <td>21.561509</td>\n",
       "    </tr>\n",
       "    <tr>\n",
       "      <th>5</th>\n",
       "      <td>loudness</td>\n",
       "      <td>17.876161</td>\n",
       "    </tr>\n",
       "    <tr>\n",
       "      <th>11</th>\n",
       "      <td>valence</td>\n",
       "      <td>10.137108</td>\n",
       "    </tr>\n",
       "    <tr>\n",
       "      <th>4</th>\n",
       "      <td>key</td>\n",
       "      <td>3.188838</td>\n",
       "    </tr>\n",
       "    <tr>\n",
       "      <th>10</th>\n",
       "      <td>liveness</td>\n",
       "      <td>2.817291</td>\n",
       "    </tr>\n",
       "    <tr>\n",
       "      <th>6</th>\n",
       "      <td>mode</td>\n",
       "      <td>2.535809</td>\n",
       "    </tr>\n",
       "    <tr>\n",
       "      <th>8</th>\n",
       "      <td>acousticness</td>\n",
       "      <td>2.441140</td>\n",
       "    </tr>\n",
       "    <tr>\n",
       "      <th>7</th>\n",
       "      <td>speechiness</td>\n",
       "      <td>2.253751</td>\n",
       "    </tr>\n",
       "    <tr>\n",
       "      <th>9</th>\n",
       "      <td>instrumentalness</td>\n",
       "      <td>1.085462</td>\n",
       "    </tr>\n",
       "  </tbody>\n",
       "</table>\n",
       "</div>"
      ],
      "text/plain": [
       "             features         VIF\n",
       "0                year  512.787820\n",
       "14     time_signature  283.020648\n",
       "3              energy   49.435855\n",
       "1   artist_popularity   43.598213\n",
       "2        danceability   33.894432\n",
       "13        duration_ms   30.759158\n",
       "12              tempo   21.561509\n",
       "5            loudness   17.876161\n",
       "11            valence   10.137108\n",
       "4                 key    3.188838\n",
       "10           liveness    2.817291\n",
       "6                mode    2.535809\n",
       "8        acousticness    2.441140\n",
       "7         speechiness    2.253751\n",
       "9    instrumentalness    1.085462"
      ]
     },
     "execution_count": 31,
     "metadata": {},
     "output_type": "execute_result"
    }
   ],
   "source": [
    "compute_vif(considered_cols).sort_values(\"VIF\", ascending=False)"
   ]
  },
  {
   "cell_type": "code",
   "execution_count": 32,
   "metadata": {
    "collapsed": true,
    "jupyter": {
     "outputs_hidden": true
    }
   },
   "outputs": [],
   "source": [
    "considered_cols.remove('year')"
   ]
  },
  {
   "cell_type": "code",
   "execution_count": 33,
   "metadata": {},
   "outputs": [
    {
     "data": {
      "text/html": [
       "<div>\n",
       "<style scoped>\n",
       "    .dataframe tbody tr th:only-of-type {\n",
       "        vertical-align: middle;\n",
       "    }\n",
       "\n",
       "    .dataframe tbody tr th {\n",
       "        vertical-align: top;\n",
       "    }\n",
       "\n",
       "    .dataframe thead th {\n",
       "        text-align: right;\n",
       "    }\n",
       "</style>\n",
       "<table border=\"1\" class=\"dataframe\">\n",
       "  <thead>\n",
       "    <tr style=\"text-align: right;\">\n",
       "      <th></th>\n",
       "      <th>features</th>\n",
       "      <th>VIF</th>\n",
       "    </tr>\n",
       "  </thead>\n",
       "  <tbody>\n",
       "    <tr>\n",
       "      <th>13</th>\n",
       "      <td>time_signature</td>\n",
       "      <td>144.429801</td>\n",
       "    </tr>\n",
       "    <tr>\n",
       "      <th>2</th>\n",
       "      <td>energy</td>\n",
       "      <td>42.760144</td>\n",
       "    </tr>\n",
       "    <tr>\n",
       "      <th>0</th>\n",
       "      <td>artist_popularity</td>\n",
       "      <td>38.133603</td>\n",
       "    </tr>\n",
       "    <tr>\n",
       "      <th>1</th>\n",
       "      <td>danceability</td>\n",
       "      <td>31.006229</td>\n",
       "    </tr>\n",
       "    <tr>\n",
       "      <th>12</th>\n",
       "      <td>duration_ms</td>\n",
       "      <td>28.773652</td>\n",
       "    </tr>\n",
       "    <tr>\n",
       "      <th>11</th>\n",
       "      <td>tempo</td>\n",
       "      <td>19.941304</td>\n",
       "    </tr>\n",
       "    <tr>\n",
       "      <th>4</th>\n",
       "      <td>loudness</td>\n",
       "      <td>15.860982</td>\n",
       "    </tr>\n",
       "    <tr>\n",
       "      <th>10</th>\n",
       "      <td>valence</td>\n",
       "      <td>10.128965</td>\n",
       "    </tr>\n",
       "    <tr>\n",
       "      <th>3</th>\n",
       "      <td>key</td>\n",
       "      <td>3.147719</td>\n",
       "    </tr>\n",
       "    <tr>\n",
       "      <th>9</th>\n",
       "      <td>liveness</td>\n",
       "      <td>2.807924</td>\n",
       "    </tr>\n",
       "    <tr>\n",
       "      <th>5</th>\n",
       "      <td>mode</td>\n",
       "      <td>2.506829</td>\n",
       "    </tr>\n",
       "    <tr>\n",
       "      <th>7</th>\n",
       "      <td>acousticness</td>\n",
       "      <td>2.299336</td>\n",
       "    </tr>\n",
       "    <tr>\n",
       "      <th>6</th>\n",
       "      <td>speechiness</td>\n",
       "      <td>2.230687</td>\n",
       "    </tr>\n",
       "    <tr>\n",
       "      <th>8</th>\n",
       "      <td>instrumentalness</td>\n",
       "      <td>1.081491</td>\n",
       "    </tr>\n",
       "  </tbody>\n",
       "</table>\n",
       "</div>"
      ],
      "text/plain": [
       "             features         VIF\n",
       "13     time_signature  144.429801\n",
       "2              energy   42.760144\n",
       "0   artist_popularity   38.133603\n",
       "1        danceability   31.006229\n",
       "12        duration_ms   28.773652\n",
       "11              tempo   19.941304\n",
       "4            loudness   15.860982\n",
       "10            valence   10.128965\n",
       "3                 key    3.147719\n",
       "9            liveness    2.807924\n",
       "5                mode    2.506829\n",
       "7        acousticness    2.299336\n",
       "6         speechiness    2.230687\n",
       "8    instrumentalness    1.081491"
      ]
     },
     "execution_count": 33,
     "metadata": {},
     "output_type": "execute_result"
    }
   ],
   "source": [
    "compute_vif(considered_cols).sort_values(\"VIF\", ascending=False)"
   ]
  },
  {
   "cell_type": "code",
   "execution_count": 34,
   "metadata": {},
   "outputs": [
    {
     "data": {
      "text/html": [
       "<div>\n",
       "<style scoped>\n",
       "    .dataframe tbody tr th:only-of-type {\n",
       "        vertical-align: middle;\n",
       "    }\n",
       "\n",
       "    .dataframe tbody tr th {\n",
       "        vertical-align: top;\n",
       "    }\n",
       "\n",
       "    .dataframe thead th {\n",
       "        text-align: right;\n",
       "    }\n",
       "</style>\n",
       "<table border=\"1\" class=\"dataframe\">\n",
       "  <thead>\n",
       "    <tr style=\"text-align: right;\">\n",
       "      <th></th>\n",
       "      <th>features</th>\n",
       "      <th>VIF</th>\n",
       "    </tr>\n",
       "  </thead>\n",
       "  <tbody>\n",
       "    <tr>\n",
       "      <th>0</th>\n",
       "      <td>artist_popularity</td>\n",
       "      <td>34.086005</td>\n",
       "    </tr>\n",
       "    <tr>\n",
       "      <th>2</th>\n",
       "      <td>energy</td>\n",
       "      <td>30.525833</td>\n",
       "    </tr>\n",
       "    <tr>\n",
       "      <th>1</th>\n",
       "      <td>danceability</td>\n",
       "      <td>26.371281</td>\n",
       "    </tr>\n",
       "    <tr>\n",
       "      <th>12</th>\n",
       "      <td>duration_ms</td>\n",
       "      <td>26.170472</td>\n",
       "    </tr>\n",
       "    <tr>\n",
       "      <th>11</th>\n",
       "      <td>tempo</td>\n",
       "      <td>18.896764</td>\n",
       "    </tr>\n",
       "    <tr>\n",
       "      <th>4</th>\n",
       "      <td>loudness</td>\n",
       "      <td>13.263342</td>\n",
       "    </tr>\n",
       "    <tr>\n",
       "      <th>10</th>\n",
       "      <td>valence</td>\n",
       "      <td>10.123010</td>\n",
       "    </tr>\n",
       "    <tr>\n",
       "      <th>3</th>\n",
       "      <td>key</td>\n",
       "      <td>3.138081</td>\n",
       "    </tr>\n",
       "    <tr>\n",
       "      <th>9</th>\n",
       "      <td>liveness</td>\n",
       "      <td>2.803429</td>\n",
       "    </tr>\n",
       "    <tr>\n",
       "      <th>5</th>\n",
       "      <td>mode</td>\n",
       "      <td>2.467337</td>\n",
       "    </tr>\n",
       "    <tr>\n",
       "      <th>6</th>\n",
       "      <td>speechiness</td>\n",
       "      <td>2.229200</td>\n",
       "    </tr>\n",
       "    <tr>\n",
       "      <th>7</th>\n",
       "      <td>acousticness</td>\n",
       "      <td>2.215040</td>\n",
       "    </tr>\n",
       "    <tr>\n",
       "      <th>8</th>\n",
       "      <td>instrumentalness</td>\n",
       "      <td>1.079044</td>\n",
       "    </tr>\n",
       "  </tbody>\n",
       "</table>\n",
       "</div>"
      ],
      "text/plain": [
       "             features        VIF\n",
       "0   artist_popularity  34.086005\n",
       "2              energy  30.525833\n",
       "1        danceability  26.371281\n",
       "12        duration_ms  26.170472\n",
       "11              tempo  18.896764\n",
       "4            loudness  13.263342\n",
       "10            valence  10.123010\n",
       "3                 key   3.138081\n",
       "9            liveness   2.803429\n",
       "5                mode   2.467337\n",
       "6         speechiness   2.229200\n",
       "7        acousticness   2.215040\n",
       "8    instrumentalness   1.079044"
      ]
     },
     "execution_count": 34,
     "metadata": {},
     "output_type": "execute_result"
    }
   ],
   "source": [
    "considered_cols.remove('time_signature')\n",
    "compute_vif(considered_cols).sort_values(\"VIF\", ascending=False)"
   ]
  },
  {
   "cell_type": "code",
   "execution_count": 35,
   "metadata": {},
   "outputs": [
    {
     "data": {
      "text/html": [
       "<div>\n",
       "<style scoped>\n",
       "    .dataframe tbody tr th:only-of-type {\n",
       "        vertical-align: middle;\n",
       "    }\n",
       "\n",
       "    .dataframe tbody tr th {\n",
       "        vertical-align: top;\n",
       "    }\n",
       "\n",
       "    .dataframe thead th {\n",
       "        text-align: right;\n",
       "    }\n",
       "</style>\n",
       "<table border=\"1\" class=\"dataframe\">\n",
       "  <thead>\n",
       "    <tr style=\"text-align: right;\">\n",
       "      <th></th>\n",
       "      <th>features</th>\n",
       "      <th>VIF</th>\n",
       "    </tr>\n",
       "  </thead>\n",
       "  <tbody>\n",
       "    <tr>\n",
       "      <th>1</th>\n",
       "      <td>energy</td>\n",
       "      <td>27.135641</td>\n",
       "    </tr>\n",
       "    <tr>\n",
       "      <th>11</th>\n",
       "      <td>duration_ms</td>\n",
       "      <td>25.464781</td>\n",
       "    </tr>\n",
       "    <tr>\n",
       "      <th>0</th>\n",
       "      <td>danceability</td>\n",
       "      <td>23.472099</td>\n",
       "    </tr>\n",
       "    <tr>\n",
       "      <th>10</th>\n",
       "      <td>tempo</td>\n",
       "      <td>18.199272</td>\n",
       "    </tr>\n",
       "    <tr>\n",
       "      <th>3</th>\n",
       "      <td>loudness</td>\n",
       "      <td>12.463346</td>\n",
       "    </tr>\n",
       "    <tr>\n",
       "      <th>9</th>\n",
       "      <td>valence</td>\n",
       "      <td>9.840501</td>\n",
       "    </tr>\n",
       "    <tr>\n",
       "      <th>2</th>\n",
       "      <td>key</td>\n",
       "      <td>3.137230</td>\n",
       "    </tr>\n",
       "    <tr>\n",
       "      <th>8</th>\n",
       "      <td>liveness</td>\n",
       "      <td>2.794852</td>\n",
       "    </tr>\n",
       "    <tr>\n",
       "      <th>4</th>\n",
       "      <td>mode</td>\n",
       "      <td>2.465459</td>\n",
       "    </tr>\n",
       "    <tr>\n",
       "      <th>5</th>\n",
       "      <td>speechiness</td>\n",
       "      <td>2.229068</td>\n",
       "    </tr>\n",
       "    <tr>\n",
       "      <th>6</th>\n",
       "      <td>acousticness</td>\n",
       "      <td>2.141535</td>\n",
       "    </tr>\n",
       "    <tr>\n",
       "      <th>7</th>\n",
       "      <td>instrumentalness</td>\n",
       "      <td>1.063615</td>\n",
       "    </tr>\n",
       "  </tbody>\n",
       "</table>\n",
       "</div>"
      ],
      "text/plain": [
       "            features        VIF\n",
       "1             energy  27.135641\n",
       "11       duration_ms  25.464781\n",
       "0       danceability  23.472099\n",
       "10             tempo  18.199272\n",
       "3           loudness  12.463346\n",
       "9            valence   9.840501\n",
       "2                key   3.137230\n",
       "8           liveness   2.794852\n",
       "4               mode   2.465459\n",
       "5        speechiness   2.229068\n",
       "6       acousticness   2.141535\n",
       "7   instrumentalness   1.063615"
      ]
     },
     "execution_count": 35,
     "metadata": {},
     "output_type": "execute_result"
    }
   ],
   "source": [
    "considered_cols.remove('artist_popularity')\n",
    "compute_vif(considered_cols).sort_values(\"VIF\", ascending=False)"
   ]
  },
  {
   "cell_type": "code",
   "execution_count": 36,
   "metadata": {},
   "outputs": [
    {
     "data": {
      "text/html": [
       "<div>\n",
       "<style scoped>\n",
       "    .dataframe tbody tr th:only-of-type {\n",
       "        vertical-align: middle;\n",
       "    }\n",
       "\n",
       "    .dataframe tbody tr th {\n",
       "        vertical-align: top;\n",
       "    }\n",
       "\n",
       "    .dataframe thead th {\n",
       "        text-align: right;\n",
       "    }\n",
       "</style>\n",
       "<table border=\"1\" class=\"dataframe\">\n",
       "  <thead>\n",
       "    <tr style=\"text-align: right;\">\n",
       "      <th></th>\n",
       "      <th>features</th>\n",
       "      <th>VIF</th>\n",
       "    </tr>\n",
       "  </thead>\n",
       "  <tbody>\n",
       "    <tr>\n",
       "      <th>0</th>\n",
       "      <td>danceability</td>\n",
       "      <td>22.661897</td>\n",
       "    </tr>\n",
       "    <tr>\n",
       "      <th>10</th>\n",
       "      <td>duration_ms</td>\n",
       "      <td>20.565090</td>\n",
       "    </tr>\n",
       "    <tr>\n",
       "      <th>9</th>\n",
       "      <td>tempo</td>\n",
       "      <td>14.749319</td>\n",
       "    </tr>\n",
       "    <tr>\n",
       "      <th>2</th>\n",
       "      <td>loudness</td>\n",
       "      <td>11.086042</td>\n",
       "    </tr>\n",
       "    <tr>\n",
       "      <th>8</th>\n",
       "      <td>valence</td>\n",
       "      <td>8.621411</td>\n",
       "    </tr>\n",
       "    <tr>\n",
       "      <th>1</th>\n",
       "      <td>key</td>\n",
       "      <td>3.116892</td>\n",
       "    </tr>\n",
       "    <tr>\n",
       "      <th>7</th>\n",
       "      <td>liveness</td>\n",
       "      <td>2.682028</td>\n",
       "    </tr>\n",
       "    <tr>\n",
       "      <th>3</th>\n",
       "      <td>mode</td>\n",
       "      <td>2.450687</td>\n",
       "    </tr>\n",
       "    <tr>\n",
       "      <th>4</th>\n",
       "      <td>speechiness</td>\n",
       "      <td>2.223485</td>\n",
       "    </tr>\n",
       "    <tr>\n",
       "      <th>5</th>\n",
       "      <td>acousticness</td>\n",
       "      <td>2.024180</td>\n",
       "    </tr>\n",
       "    <tr>\n",
       "      <th>6</th>\n",
       "      <td>instrumentalness</td>\n",
       "      <td>1.057476</td>\n",
       "    </tr>\n",
       "  </tbody>\n",
       "</table>\n",
       "</div>"
      ],
      "text/plain": [
       "            features        VIF\n",
       "0       danceability  22.661897\n",
       "10       duration_ms  20.565090\n",
       "9              tempo  14.749319\n",
       "2           loudness  11.086042\n",
       "8            valence   8.621411\n",
       "1                key   3.116892\n",
       "7           liveness   2.682028\n",
       "3               mode   2.450687\n",
       "4        speechiness   2.223485\n",
       "5       acousticness   2.024180\n",
       "6   instrumentalness   1.057476"
      ]
     },
     "execution_count": 36,
     "metadata": {},
     "output_type": "execute_result"
    }
   ],
   "source": [
    "considered_cols.remove('energy')\n",
    "compute_vif(considered_cols).sort_values(\"VIF\", ascending=False)"
   ]
  },
  {
   "cell_type": "code",
   "execution_count": 37,
   "metadata": {},
   "outputs": [
    {
     "data": {
      "text/html": [
       "<div>\n",
       "<style scoped>\n",
       "    .dataframe tbody tr th:only-of-type {\n",
       "        vertical-align: middle;\n",
       "    }\n",
       "\n",
       "    .dataframe tbody tr th {\n",
       "        vertical-align: top;\n",
       "    }\n",
       "\n",
       "    .dataframe thead th {\n",
       "        text-align: right;\n",
       "    }\n",
       "</style>\n",
       "<table border=\"1\" class=\"dataframe\">\n",
       "  <thead>\n",
       "    <tr style=\"text-align: right;\">\n",
       "      <th></th>\n",
       "      <th>features</th>\n",
       "      <th>VIF</th>\n",
       "    </tr>\n",
       "  </thead>\n",
       "  <tbody>\n",
       "    <tr>\n",
       "      <th>9</th>\n",
       "      <td>duration_ms</td>\n",
       "      <td>18.246250</td>\n",
       "    </tr>\n",
       "    <tr>\n",
       "      <th>8</th>\n",
       "      <td>tempo</td>\n",
       "      <td>14.557364</td>\n",
       "    </tr>\n",
       "    <tr>\n",
       "      <th>1</th>\n",
       "      <td>loudness</td>\n",
       "      <td>10.125084</td>\n",
       "    </tr>\n",
       "    <tr>\n",
       "      <th>7</th>\n",
       "      <td>valence</td>\n",
       "      <td>5.813357</td>\n",
       "    </tr>\n",
       "    <tr>\n",
       "      <th>0</th>\n",
       "      <td>key</td>\n",
       "      <td>3.090975</td>\n",
       "    </tr>\n",
       "    <tr>\n",
       "      <th>6</th>\n",
       "      <td>liveness</td>\n",
       "      <td>2.679758</td>\n",
       "    </tr>\n",
       "    <tr>\n",
       "      <th>2</th>\n",
       "      <td>mode</td>\n",
       "      <td>2.450653</td>\n",
       "    </tr>\n",
       "    <tr>\n",
       "      <th>3</th>\n",
       "      <td>speechiness</td>\n",
       "      <td>2.178660</td>\n",
       "    </tr>\n",
       "    <tr>\n",
       "      <th>4</th>\n",
       "      <td>acousticness</td>\n",
       "      <td>2.019318</td>\n",
       "    </tr>\n",
       "    <tr>\n",
       "      <th>5</th>\n",
       "      <td>instrumentalness</td>\n",
       "      <td>1.057412</td>\n",
       "    </tr>\n",
       "  </tbody>\n",
       "</table>\n",
       "</div>"
      ],
      "text/plain": [
       "           features        VIF\n",
       "9       duration_ms  18.246250\n",
       "8             tempo  14.557364\n",
       "1          loudness  10.125084\n",
       "7           valence   5.813357\n",
       "0               key   3.090975\n",
       "6          liveness   2.679758\n",
       "2              mode   2.450653\n",
       "3       speechiness   2.178660\n",
       "4      acousticness   2.019318\n",
       "5  instrumentalness   1.057412"
      ]
     },
     "execution_count": 37,
     "metadata": {},
     "output_type": "execute_result"
    }
   ],
   "source": [
    "considered_cols.remove('danceability')\n",
    "compute_vif(considered_cols).sort_values(\"VIF\", ascending=False)"
   ]
  },
  {
   "cell_type": "code",
   "execution_count": 38,
   "metadata": {},
   "outputs": [
    {
     "data": {
      "text/html": [
       "<div>\n",
       "<style scoped>\n",
       "    .dataframe tbody tr th:only-of-type {\n",
       "        vertical-align: middle;\n",
       "    }\n",
       "\n",
       "    .dataframe tbody tr th {\n",
       "        vertical-align: top;\n",
       "    }\n",
       "\n",
       "    .dataframe thead th {\n",
       "        text-align: right;\n",
       "    }\n",
       "</style>\n",
       "<table border=\"1\" class=\"dataframe\">\n",
       "  <thead>\n",
       "    <tr style=\"text-align: right;\">\n",
       "      <th></th>\n",
       "      <th>features</th>\n",
       "      <th>VIF</th>\n",
       "    </tr>\n",
       "  </thead>\n",
       "  <tbody>\n",
       "    <tr>\n",
       "      <th>8</th>\n",
       "      <td>tempo</td>\n",
       "      <td>11.370915</td>\n",
       "    </tr>\n",
       "    <tr>\n",
       "      <th>1</th>\n",
       "      <td>loudness</td>\n",
       "      <td>8.404792</td>\n",
       "    </tr>\n",
       "    <tr>\n",
       "      <th>7</th>\n",
       "      <td>valence</td>\n",
       "      <td>5.437100</td>\n",
       "    </tr>\n",
       "    <tr>\n",
       "      <th>0</th>\n",
       "      <td>key</td>\n",
       "      <td>3.028864</td>\n",
       "    </tr>\n",
       "    <tr>\n",
       "      <th>6</th>\n",
       "      <td>liveness</td>\n",
       "      <td>2.621357</td>\n",
       "    </tr>\n",
       "    <tr>\n",
       "      <th>2</th>\n",
       "      <td>mode</td>\n",
       "      <td>2.405982</td>\n",
       "    </tr>\n",
       "    <tr>\n",
       "      <th>3</th>\n",
       "      <td>speechiness</td>\n",
       "      <td>2.174473</td>\n",
       "    </tr>\n",
       "    <tr>\n",
       "      <th>4</th>\n",
       "      <td>acousticness</td>\n",
       "      <td>2.016891</td>\n",
       "    </tr>\n",
       "    <tr>\n",
       "      <th>5</th>\n",
       "      <td>instrumentalness</td>\n",
       "      <td>1.055997</td>\n",
       "    </tr>\n",
       "  </tbody>\n",
       "</table>\n",
       "</div>"
      ],
      "text/plain": [
       "           features        VIF\n",
       "8             tempo  11.370915\n",
       "1          loudness   8.404792\n",
       "7           valence   5.437100\n",
       "0               key   3.028864\n",
       "6          liveness   2.621357\n",
       "2              mode   2.405982\n",
       "3       speechiness   2.174473\n",
       "4      acousticness   2.016891\n",
       "5  instrumentalness   1.055997"
      ]
     },
     "execution_count": 38,
     "metadata": {},
     "output_type": "execute_result"
    }
   ],
   "source": [
    "considered_cols.remove('duration_ms')\n",
    "compute_vif(considered_cols).sort_values(\"VIF\", ascending=False)"
   ]
  },
  {
   "cell_type": "code",
   "execution_count": 39,
   "metadata": {},
   "outputs": [
    {
     "data": {
      "text/html": [
       "<div>\n",
       "<style scoped>\n",
       "    .dataframe tbody tr th:only-of-type {\n",
       "        vertical-align: middle;\n",
       "    }\n",
       "\n",
       "    .dataframe tbody tr th {\n",
       "        vertical-align: top;\n",
       "    }\n",
       "\n",
       "    .dataframe thead th {\n",
       "        text-align: right;\n",
       "    }\n",
       "</style>\n",
       "<table border=\"1\" class=\"dataframe\">\n",
       "  <thead>\n",
       "    <tr style=\"text-align: right;\">\n",
       "      <th></th>\n",
       "      <th>features</th>\n",
       "      <th>VIF</th>\n",
       "    </tr>\n",
       "  </thead>\n",
       "  <tbody>\n",
       "    <tr>\n",
       "      <th>1</th>\n",
       "      <td>loudness</td>\n",
       "      <td>6.579167</td>\n",
       "    </tr>\n",
       "    <tr>\n",
       "      <th>7</th>\n",
       "      <td>valence</td>\n",
       "      <td>4.363193</td>\n",
       "    </tr>\n",
       "    <tr>\n",
       "      <th>0</th>\n",
       "      <td>key</td>\n",
       "      <td>2.888419</td>\n",
       "    </tr>\n",
       "    <tr>\n",
       "      <th>6</th>\n",
       "      <td>liveness</td>\n",
       "      <td>2.515196</td>\n",
       "    </tr>\n",
       "    <tr>\n",
       "      <th>2</th>\n",
       "      <td>mode</td>\n",
       "      <td>2.270184</td>\n",
       "    </tr>\n",
       "    <tr>\n",
       "      <th>3</th>\n",
       "      <td>speechiness</td>\n",
       "      <td>2.142235</td>\n",
       "    </tr>\n",
       "    <tr>\n",
       "      <th>4</th>\n",
       "      <td>acousticness</td>\n",
       "      <td>2.010645</td>\n",
       "    </tr>\n",
       "    <tr>\n",
       "      <th>5</th>\n",
       "      <td>instrumentalness</td>\n",
       "      <td>1.055743</td>\n",
       "    </tr>\n",
       "  </tbody>\n",
       "</table>\n",
       "</div>"
      ],
      "text/plain": [
       "           features       VIF\n",
       "1          loudness  6.579167\n",
       "7           valence  4.363193\n",
       "0               key  2.888419\n",
       "6          liveness  2.515196\n",
       "2              mode  2.270184\n",
       "3       speechiness  2.142235\n",
       "4      acousticness  2.010645\n",
       "5  instrumentalness  1.055743"
      ]
     },
     "execution_count": 39,
     "metadata": {},
     "output_type": "execute_result"
    }
   ],
   "source": [
    "considered_cols.remove('tempo')\n",
    "compute_vif(considered_cols).sort_values(\"VIF\", ascending=False)"
   ]
  },
  {
   "cell_type": "code",
   "execution_count": 40,
   "metadata": {},
   "outputs": [
    {
     "data": {
      "text/html": [
       "<div>\n",
       "<style scoped>\n",
       "    .dataframe tbody tr th:only-of-type {\n",
       "        vertical-align: middle;\n",
       "    }\n",
       "\n",
       "    .dataframe tbody tr th {\n",
       "        vertical-align: top;\n",
       "    }\n",
       "\n",
       "    .dataframe thead th {\n",
       "        text-align: right;\n",
       "    }\n",
       "</style>\n",
       "<table border=\"1\" class=\"dataframe\">\n",
       "  <thead>\n",
       "    <tr style=\"text-align: right;\">\n",
       "      <th></th>\n",
       "      <th>features</th>\n",
       "      <th>VIF</th>\n",
       "    </tr>\n",
       "  </thead>\n",
       "  <tbody>\n",
       "    <tr>\n",
       "      <th>6</th>\n",
       "      <td>valence</td>\n",
       "      <td>3.990172</td>\n",
       "    </tr>\n",
       "    <tr>\n",
       "      <th>0</th>\n",
       "      <td>key</td>\n",
       "      <td>2.657227</td>\n",
       "    </tr>\n",
       "    <tr>\n",
       "      <th>5</th>\n",
       "      <td>liveness</td>\n",
       "      <td>2.411422</td>\n",
       "    </tr>\n",
       "    <tr>\n",
       "      <th>1</th>\n",
       "      <td>mode</td>\n",
       "      <td>2.084574</td>\n",
       "    </tr>\n",
       "    <tr>\n",
       "      <th>2</th>\n",
       "      <td>speechiness</td>\n",
       "      <td>2.048609</td>\n",
       "    </tr>\n",
       "    <tr>\n",
       "      <th>3</th>\n",
       "      <td>acousticness</td>\n",
       "      <td>1.482171</td>\n",
       "    </tr>\n",
       "    <tr>\n",
       "      <th>4</th>\n",
       "      <td>instrumentalness</td>\n",
       "      <td>1.021910</td>\n",
       "    </tr>\n",
       "  </tbody>\n",
       "</table>\n",
       "</div>"
      ],
      "text/plain": [
       "           features       VIF\n",
       "6           valence  3.990172\n",
       "0               key  2.657227\n",
       "5          liveness  2.411422\n",
       "1              mode  2.084574\n",
       "2       speechiness  2.048609\n",
       "3      acousticness  1.482171\n",
       "4  instrumentalness  1.021910"
      ]
     },
     "execution_count": 40,
     "metadata": {},
     "output_type": "execute_result"
    }
   ],
   "source": [
    "considered_cols.remove('loudness')\n",
    "compute_vif(considered_cols).sort_values(\"VIF\", ascending=False)"
   ]
  },
  {
   "cell_type": "code",
   "execution_count": 41,
   "metadata": {
    "collapsed": true,
    "jupyter": {
     "outputs_hidden": true
    }
   },
   "outputs": [],
   "source": [
    "#considered_cols.remove('valence')\n",
    "#compute_vif(considered_cols).sort_values(\"VIF\", ascending=False)"
   ]
  },
  {
   "cell_type": "markdown",
   "metadata": {},
   "source": [
    "**Result of VIF** Among the remaining variables, valence, key, liveness, mode, speechiness, acousticness, and instrumentalness will be used in a linear regression model to predict track_popularity."
   ]
  },
  {
   "cell_type": "markdown",
   "metadata": {},
   "source": [
    "### Linear Regression"
   ]
  },
  {
   "cell_type": "markdown",
   "metadata": {},
   "source": [
    "For linear regression, we will use the method of least squares from the statsmodel api. The formula used is the following."
   ]
  },
  {
   "cell_type": "code",
   "execution_count": 1,
   "metadata": {},
   "outputs": [
    {
     "ename": "NameError",
     "evalue": "name 'sm' is not defined",
     "output_type": "error",
     "traceback": [
      "\u001b[0;31m---------------------------------------------------------------------------\u001b[0m",
      "\u001b[0;31mNameError\u001b[0m                                 Traceback (most recent call last)",
      "\u001b[0;32m<ipython-input-1-9fc24e09eb5e>\u001b[0m in \u001b[0;36m<module>\u001b[0;34m\u001b[0m\n\u001b[0;32m----> 1\u001b[0;31m result = sm.OLS.from_formula('track_popularity ~ key + mode + speechiness + instrumentalness + liveness + valence',\n\u001b[0m\u001b[1;32m      2\u001b[0m                             playlist).fit()\n",
      "\u001b[0;31mNameError\u001b[0m: name 'sm' is not defined"
     ]
    }
   ],
   "source": [
    "result = sm.OLS.from_formula('track_popularity ~ key + mode + speechiness + instrumentalness + liveness + valence',\n",
    "                            playlist).fit()"
   ]
  },
  {
   "cell_type": "code",
   "execution_count": 23,
   "metadata": {},
   "outputs": [
    {
     "data": {
      "text/html": [
       "<table class=\"simpletable\">\n",
       "<caption>OLS Regression Results</caption>\n",
       "<tr>\n",
       "  <th>Dep. Variable:</th>    <td>track_popularity</td> <th>  R-squared:         </th> <td>   0.006</td> \n",
       "</tr>\n",
       "<tr>\n",
       "  <th>Model:</th>                   <td>OLS</td>       <th>  Adj. R-squared:    </th> <td>   0.004</td> \n",
       "</tr>\n",
       "<tr>\n",
       "  <th>Method:</th>             <td>Least Squares</td>  <th>  F-statistic:       </th> <td>   2.455</td> \n",
       "</tr>\n",
       "<tr>\n",
       "  <th>Date:</th>             <td>Wed, 24 Apr 2024</td> <th>  Prob (F-statistic):</th>  <td>0.0227</td>  \n",
       "</tr>\n",
       "<tr>\n",
       "  <th>Time:</th>                 <td>16:29:55</td>     <th>  Log-Likelihood:    </th> <td> -9545.7</td> \n",
       "</tr>\n",
       "<tr>\n",
       "  <th>No. Observations:</th>      <td>  2400</td>      <th>  AIC:               </th> <td>1.911e+04</td>\n",
       "</tr>\n",
       "<tr>\n",
       "  <th>Df Residuals:</th>          <td>  2393</td>      <th>  BIC:               </th> <td>1.915e+04</td>\n",
       "</tr>\n",
       "<tr>\n",
       "  <th>Df Model:</th>              <td>     6</td>      <th>                     </th>     <td> </td>    \n",
       "</tr>\n",
       "<tr>\n",
       "  <th>Covariance Type:</th>      <td>nonrobust</td>    <th>                     </th>     <td> </td>    \n",
       "</tr>\n",
       "</table>\n",
       "<table class=\"simpletable\">\n",
       "<tr>\n",
       "          <td></td>            <th>coef</th>     <th>std err</th>      <th>t</th>      <th>P>|t|</th>  <th>[0.025</th>    <th>0.975]</th>  \n",
       "</tr>\n",
       "<tr>\n",
       "  <th>Intercept</th>        <td>   73.1364</td> <td>    0.960</td> <td>   76.198</td> <td> 0.000</td> <td>   71.254</td> <td>   75.019</td>\n",
       "</tr>\n",
       "<tr>\n",
       "  <th>key</th>              <td>   -0.1011</td> <td>    0.074</td> <td>   -1.365</td> <td> 0.172</td> <td>   -0.246</td> <td>    0.044</td>\n",
       "</tr>\n",
       "<tr>\n",
       "  <th>mode</th>             <td>   -0.1757</td> <td>    0.544</td> <td>   -0.323</td> <td> 0.747</td> <td>   -1.242</td> <td>    0.890</td>\n",
       "</tr>\n",
       "<tr>\n",
       "  <th>speechiness</th>      <td>   -2.7035</td> <td>    2.860</td> <td>   -0.945</td> <td> 0.345</td> <td>   -8.312</td> <td>    2.905</td>\n",
       "</tr>\n",
       "<tr>\n",
       "  <th>instrumentalness</th> <td>   -3.2011</td> <td>    3.215</td> <td>   -0.996</td> <td> 0.320</td> <td>   -9.506</td> <td>    3.104</td>\n",
       "</tr>\n",
       "<tr>\n",
       "  <th>liveness</th>         <td>    0.4797</td> <td>    1.974</td> <td>    0.243</td> <td> 0.808</td> <td>   -3.391</td> <td>    4.351</td>\n",
       "</tr>\n",
       "<tr>\n",
       "  <th>valence</th>          <td>   -3.7353</td> <td>    1.162</td> <td>   -3.214</td> <td> 0.001</td> <td>   -6.014</td> <td>   -1.456</td>\n",
       "</tr>\n",
       "</table>\n",
       "<table class=\"simpletable\">\n",
       "<tr>\n",
       "  <th>Omnibus:</th>       <td>1378.859</td> <th>  Durbin-Watson:     </th> <td>   1.213</td> \n",
       "</tr>\n",
       "<tr>\n",
       "  <th>Prob(Omnibus):</th>  <td> 0.000</td>  <th>  Jarque-Bera (JB):  </th> <td>14604.599</td>\n",
       "</tr>\n",
       "<tr>\n",
       "  <th>Skew:</th>           <td>-2.545</td>  <th>  Prob(JB):          </th> <td>    0.00</td> \n",
       "</tr>\n",
       "<tr>\n",
       "  <th>Kurtosis:</th>       <td>13.960</td>  <th>  Cond. No.          </th> <td>    78.8</td> \n",
       "</tr>\n",
       "</table><br/><br/>Notes:<br/>[1] Standard Errors assume that the covariance matrix of the errors is correctly specified."
      ],
      "text/plain": [
       "<class 'statsmodels.iolib.summary.Summary'>\n",
       "\"\"\"\n",
       "                            OLS Regression Results                            \n",
       "==============================================================================\n",
       "Dep. Variable:       track_popularity   R-squared:                       0.006\n",
       "Model:                            OLS   Adj. R-squared:                  0.004\n",
       "Method:                 Least Squares   F-statistic:                     2.455\n",
       "Date:                Wed, 24 Apr 2024   Prob (F-statistic):             0.0227\n",
       "Time:                        16:29:55   Log-Likelihood:                -9545.7\n",
       "No. Observations:                2400   AIC:                         1.911e+04\n",
       "Df Residuals:                    2393   BIC:                         1.915e+04\n",
       "Df Model:                           6                                         \n",
       "Covariance Type:            nonrobust                                         \n",
       "====================================================================================\n",
       "                       coef    std err          t      P>|t|      [0.025      0.975]\n",
       "------------------------------------------------------------------------------------\n",
       "Intercept           73.1364      0.960     76.198      0.000      71.254      75.019\n",
       "key                 -0.1011      0.074     -1.365      0.172      -0.246       0.044\n",
       "mode                -0.1757      0.544     -0.323      0.747      -1.242       0.890\n",
       "speechiness         -2.7035      2.860     -0.945      0.345      -8.312       2.905\n",
       "instrumentalness    -3.2011      3.215     -0.996      0.320      -9.506       3.104\n",
       "liveness             0.4797      1.974      0.243      0.808      -3.391       4.351\n",
       "valence             -3.7353      1.162     -3.214      0.001      -6.014      -1.456\n",
       "==============================================================================\n",
       "Omnibus:                     1378.859   Durbin-Watson:                   1.213\n",
       "Prob(Omnibus):                  0.000   Jarque-Bera (JB):            14604.599\n",
       "Skew:                          -2.545   Prob(JB):                         0.00\n",
       "Kurtosis:                      13.960   Cond. No.                         78.8\n",
       "==============================================================================\n",
       "\n",
       "Notes:\n",
       "[1] Standard Errors assume that the covariance matrix of the errors is correctly specified.\n",
       "\"\"\""
      ]
     },
     "execution_count": 23,
     "metadata": {},
     "output_type": "execute_result"
    }
   ],
   "source": [
    "result.summary()"
   ]
  },
  {
   "cell_type": "markdown",
   "metadata": {},
   "source": [
    "From the least squares regression model, the adjusted R2 value is very low, at 0.4%, meaning that only 0.4% of the variation can be explained by the independent variables. That indicates a model that performs poorly. Moreover, if we assume statistic significance at p < 0.05, then only valence fits that category, while all other variables are not statsitically significant. "
   ]
  },
  {
   "cell_type": "markdown",
   "metadata": {},
   "source": [
    "The t-statistic for all independent variables indicate that they all have a significant impact on track_popularity. This is based on the null hypothesis being that an independent variable has no influence on the dependent variable, if t-statistic is 0. Since all values are non-zero, the null hypothesis is rejected."
   ]
  },
  {
   "cell_type": "markdown",
   "metadata": {},
   "source": [
    "**Prediction** Next, we will predict the track popularity for the playlist 2024 dataframe. We will use the metrics of the <u>Residual Squared Sum (RSS)</u> and the <u>Mean Squared Error (MSE)</u> to measure the performance of the model on the test data set. Recall that the formula for MSE and RSS are $$MSE = \\frac{1}{N}\\sum_{i=1}^{N}(y_i - \\hat{y_i})^2$$ $$RSS = \\sum_{i=1}^{N}(y_i - \\hat{y_i})^2 $$"
   ]
  },
  {
   "cell_type": "code",
   "execution_count": 24,
   "metadata": {
    "collapsed": true,
    "jupyter": {
     "outputs_hidden": true
    }
   },
   "outputs": [],
   "source": [
    "X_test = playlist_2024[['key', 'mode', 'speechiness','instrumentalness', 'acousticness', 'liveness', 'valence']]\n",
    "y_test = playlist_2024[['track_popularity']]"
   ]
  },
  {
   "cell_type": "code",
   "execution_count": 26,
   "metadata": {
    "collapsed": true,
    "jupyter": {
     "outputs_hidden": true
    }
   },
   "outputs": [],
   "source": [
    "y_pred = result.predict(X_test)\n",
    "#y_pred"
   ]
  },
  {
   "cell_type": "code",
   "execution_count": 10,
   "metadata": {},
   "outputs": [
    {
     "data": {
      "text/plain": [
       "23421.707617345044"
      ]
     },
     "execution_count": 10,
     "metadata": {},
     "output_type": "execute_result"
    }
   ],
   "source": [
    "# RSS\n",
    "sum((y_test['track_popularity']-y_pred)**2)"
   ]
  },
  {
   "cell_type": "code",
   "execution_count": 11,
   "metadata": {},
   "outputs": [
    {
     "data": {
      "text/plain": [
       "468.4341523469009"
      ]
     },
     "execution_count": 11,
     "metadata": {},
     "output_type": "execute_result"
    }
   ],
   "source": [
    "# MSE\n",
    "sum((y_test['track_popularity']-y_pred)**2)/50"
   ]
  },
  {
   "cell_type": "markdown",
   "metadata": {},
   "source": [
    "These high values of the RSS and MSE coincide with the fact that the model does not perform well."
   ]
  },
  {
   "cell_type": "markdown",
   "metadata": {},
   "source": [
    "### Conclusion"
   ]
  },
  {
   "cell_type": "markdown",
   "metadata": {},
   "source": [
    "Going back to the three questions stated at the start of the notebook:\n",
    "* Which audio features are most relevant in predicting the most popular track?\n",
    "* Does the key that a track is in have any impact on how popular a track is? And if so, what key tends to be the most used amongst artists?\n",
    "* What are the current trends of audio features in today's music?\n",
    "\n",
    "From VIF, we have determined that key, mode, speechiness, instrumentalness, acousticness, liveness, and valence are the most relevant to predicting track popularity. In particular, valence is stastically significant in predicting track popularity. <br>\n",
    "Since key was used in the model, we can determine that it does have an impact on how popular a track is. However, from data exploration, just because a key is used the most over 20 years, does not mean that it is the key used in the most popular song. It is possible that with 20+ years of data of music, the most popular key will change over time. <br> \n",
    "Finally, to summarize the trends of audio features in today's music, most songs will be above 120 beats per minute. However, with a quickly decreasing valence, danceability, and energy, songs today are less happy and are less likely to be danced to. But after 2020 valence, danceability, and energy are on an increasing trend. However, features such as speechiness and durability are on a decline."
   ]
  },
  {
   "cell_type": "markdown",
   "metadata": {},
   "source": [
    "**Improvements and Future Work** For one thing, perhaps having a window of analyzing the last 5-10 years of music would help improve the model since analysis has shown that music has changed in the past 24 years. Also analyzing how artist genre plays into music popularity would be done."
   ]
  }
 ],
 "metadata": {
  "kernelspec": {
   "display_name": "Python 3 (ipykernel)",
   "language": "python",
   "name": "python3"
  },
  "language_info": {
   "codemirror_mode": {
    "name": "ipython",
    "version": 3
   },
   "file_extension": ".py",
   "mimetype": "text/x-python",
   "name": "python",
   "nbconvert_exporter": "python",
   "pygments_lexer": "ipython3",
   "version": "3.10.12"
  }
 },
 "nbformat": 4,
 "nbformat_minor": 4
}
